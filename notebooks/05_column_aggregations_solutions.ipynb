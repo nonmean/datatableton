{
 "cells": [
  {
   "cell_type": "markdown",
   "id": "c097f367",
   "metadata": {
    "_cell_guid": "b1076dfc-b9ad-4769-8c92-a6c4dae69d19",
    "_uuid": "8f2839f25d086af736a60e9eeb907d3b93b6e0e5",
    "papermill": {
     "duration": 0.021376,
     "end_time": "2022-01-01T05:27:34.535232",
     "exception": false,
     "start_time": "2022-01-01T05:27:34.513856",
     "status": "completed"
    },
    "tags": []
   },
   "source": [
    "<center>\n",
    "    <h1>DatatableTon</h1>\n",
    "    💯 datatable exercises\n",
    "    <br>\n",
    "    <br>\n",
    "    <a href='https://github.com/vopani/datatableton/blob/master/LICENSE'>\n",
    "        <img src='https://img.shields.io/badge/license-Apache%202.0-blue.svg?logo=apache'>\n",
    "    </a>\n",
    "    <a href='https://github.com/vopani/datatableton'>\n",
    "        <img src='https://img.shields.io/github/stars/vopani/datatableton?color=yellowgreen&logo=github'>\n",
    "    </a>\n",
    "    <a href='https://twitter.com/vopani'>\n",
    "        <img src='https://img.shields.io/twitter/follow/vopani'>\n",
    "    </a>\n",
    "</center>"
   ]
  },
  {
   "cell_type": "markdown",
   "id": "b3dc4182",
   "metadata": {
    "papermill": {
     "duration": 0.019233,
     "end_time": "2022-01-01T05:27:34.576643",
     "exception": false,
     "start_time": "2022-01-01T05:27:34.557410",
     "status": "completed"
    },
    "tags": []
   },
   "source": [
    "<center>\n",
    "    This is Set 5: Column Aggregations (Exercises 41-50) of <b>DatatableTon</b>: <i>💯 datatable exercises</i>\n",
    "    <br>\n",
    "    You can find all the exercises and solutions on <a href=\"https://github.com/vopani/datatableton#exercises-\">GitHub</a>\n",
    "</center>"
   ]
  },
  {
   "cell_type": "markdown",
   "id": "940fd6b1",
   "metadata": {
    "papermill": {
     "duration": 0.019097,
     "end_time": "2022-01-01T05:27:34.615151",
     "exception": false,
     "start_time": "2022-01-01T05:27:34.596054",
     "status": "completed"
    },
    "tags": []
   },
   "source": [
    "**Prerequisites**\n",
    "* The `datatable` package should be upgraded to the latest version (or v1.0.0+).\n",
    "* The sample dataset [wine](https://scikit-learn.org/stable/modules/generated/sklearn.datasets.load_wine.html) from sklearn will be used for the exercises."
   ]
  },
  {
   "cell_type": "code",
   "execution_count": 1,
   "id": "6dea1925",
   "metadata": {
    "_kg_hide-output": true,
    "execution": {
     "iopub.execute_input": "2022-01-01T05:27:34.665827Z",
     "iopub.status.busy": "2022-01-01T05:27:34.665205Z",
     "iopub.status.idle": "2022-01-01T05:28:02.708314Z",
     "shell.execute_reply": "2022-01-01T05:28:02.707476Z",
     "shell.execute_reply.started": "2022-01-01T05:20:51.224977Z"
    },
    "papermill": {
     "duration": 28.073987,
     "end_time": "2022-01-01T05:28:02.708515",
     "exception": false,
     "start_time": "2022-01-01T05:27:34.634528",
     "status": "completed"
    },
    "tags": []
   },
   "outputs": [
    {
     "name": "stdout",
     "output_type": "stream",
     "text": [
      "Requirement already satisfied: pip in /opt/conda/lib/python3.7/site-packages (21.3.1)\r\n",
      "\u001b[33mWARNING: Running pip as the 'root' user can result in broken permissions and conflicting behaviour with the system package manager. It is recommended to use a virtual environment instead: https://pip.pypa.io/warnings/venv\u001b[0m\r\n",
      "Requirement already satisfied: datatable in /opt/conda/lib/python3.7/site-packages (1.0.0)\r\n",
      "\u001b[33mWARNING: Running pip as the 'root' user can result in broken permissions and conflicting behaviour with the system package manager. It is recommended to use a virtual environment instead: https://pip.pypa.io/warnings/venv\u001b[0m\r\n",
      "Requirement already satisfied: scikit-learn in /opt/conda/lib/python3.7/site-packages (0.23.2)\r\n",
      "Requirement already satisfied: scipy>=0.19.1 in /opt/conda/lib/python3.7/site-packages (from scikit-learn) (1.7.2)\r\n",
      "Requirement already satisfied: numpy>=1.13.3 in /opt/conda/lib/python3.7/site-packages (from scikit-learn) (1.19.5)\r\n",
      "Requirement already satisfied: joblib>=0.11 in /opt/conda/lib/python3.7/site-packages (from scikit-learn) (1.1.0)\r\n",
      "Requirement already satisfied: threadpoolctl>=2.0.0 in /opt/conda/lib/python3.7/site-packages (from scikit-learn) (3.0.0)\r\n",
      "\u001b[33mWARNING: Running pip as the 'root' user can result in broken permissions and conflicting behaviour with the system package manager. It is recommended to use a virtual environment instead: https://pip.pypa.io/warnings/venv\u001b[0m\r\n"
     ]
    }
   ],
   "source": [
    "!python3 -m pip install -U pip\n",
    "!python3 -m pip install -U datatable\n",
    "!python3 -m pip install scikit-learn"
   ]
  },
  {
   "cell_type": "code",
   "execution_count": 2,
   "id": "8a249147",
   "metadata": {
    "execution": {
     "iopub.execute_input": "2022-01-01T05:28:02.760684Z",
     "iopub.status.busy": "2022-01-01T05:28:02.759899Z",
     "iopub.status.idle": "2022-01-01T05:28:04.042052Z",
     "shell.execute_reply": "2022-01-01T05:28:04.041398Z",
     "shell.execute_reply.started": "2022-01-01T05:21:18.391039Z"
    },
    "papermill": {
     "duration": 1.310755,
     "end_time": "2022-01-01T05:28:04.042207",
     "exception": false,
     "start_time": "2022-01-01T05:28:02.731452",
     "status": "completed"
    },
    "tags": []
   },
   "outputs": [
    {
     "data": {
      "text/html": [
       "<style type='text/css'>\n",
       ".datatable table.frame { margin-bottom: 0; }\n",
       ".datatable table.frame thead { border-bottom: none; }\n",
       ".datatable table.frame tr.coltypes td {  color: #FFFFFF;  line-height: 6px;  padding: 0 0.5em;}\n",
       ".datatable .bool    { background: #DDDD99; }\n",
       ".datatable .object  { background: #565656; }\n",
       ".datatable .int     { background: #5D9E5D; }\n",
       ".datatable .float   { background: #4040CC; }\n",
       ".datatable .str     { background: #CC4040; }\n",
       ".datatable .time    { background: #40CC40; }\n",
       ".datatable .row_index {  background: var(--jp-border-color3);  border-right: 1px solid var(--jp-border-color0);  color: var(--jp-ui-font-color3);  font-size: 9px;}\n",
       ".datatable .frame tbody td { text-align: left; }\n",
       ".datatable .frame tr.coltypes .row_index {  background: var(--jp-border-color0);}\n",
       ".datatable th:nth-child(2) { padding-left: 12px; }\n",
       ".datatable .hellipsis {  color: var(--jp-cell-editor-border-color);}\n",
       ".datatable .vellipsis {  background: var(--jp-layout-color0);  color: var(--jp-cell-editor-border-color);}\n",
       ".datatable .na {  color: var(--jp-cell-editor-border-color);  font-size: 80%;}\n",
       ".datatable .sp {  opacity: 0.25;}\n",
       ".datatable .footer { font-size: 9px; }\n",
       ".datatable .frame_dimensions {  background: var(--jp-border-color3);  border-top: 1px solid var(--jp-border-color0);  color: var(--jp-ui-font-color3);  display: inline-block;  opacity: 0.6;  padding: 1px 10px 1px 5px;}\n",
       "</style>\n"
      ],
      "text/plain": [
       "<IPython.core.display.HTML object>"
      ]
     },
     "metadata": {},
     "output_type": "display_data"
    },
    {
     "data": {
      "text/html": [
       "<div class='datatable'>\n",
       "  <table class='frame'>\n",
       "  <thead>\n",
       "    <tr class='colnames'><td class='row_index'></td><th>alcohol</th><th>malic_acid</th><th>ash</th><th>alcalinity_of_ash</th><th>magnesium</th><th>total_phenols</th><th>flavanoids</th><th>nonflavanoid_phenols</th><th>proanthocyanins</th><th>color_intensity</th><th>hue</th><th>od280/od315_of_diluted_wines</th><th>proline</th><th>target</th></tr>\n",
       "    <tr class='coltypes'><td class='row_index'></td><td class='float' title='float64'>&#x25AA;&#x25AA;&#x25AA;&#x25AA;&#x25AA;&#x25AA;&#x25AA;&#x25AA;</td><td class='float' title='float64'>&#x25AA;&#x25AA;&#x25AA;&#x25AA;&#x25AA;&#x25AA;&#x25AA;&#x25AA;</td><td class='float' title='float64'>&#x25AA;&#x25AA;&#x25AA;&#x25AA;&#x25AA;&#x25AA;&#x25AA;&#x25AA;</td><td class='float' title='float64'>&#x25AA;&#x25AA;&#x25AA;&#x25AA;&#x25AA;&#x25AA;&#x25AA;&#x25AA;</td><td class='float' title='float64'>&#x25AA;&#x25AA;&#x25AA;&#x25AA;&#x25AA;&#x25AA;&#x25AA;&#x25AA;</td><td class='float' title='float64'>&#x25AA;&#x25AA;&#x25AA;&#x25AA;&#x25AA;&#x25AA;&#x25AA;&#x25AA;</td><td class='float' title='float64'>&#x25AA;&#x25AA;&#x25AA;&#x25AA;&#x25AA;&#x25AA;&#x25AA;&#x25AA;</td><td class='float' title='float64'>&#x25AA;&#x25AA;&#x25AA;&#x25AA;&#x25AA;&#x25AA;&#x25AA;&#x25AA;</td><td class='float' title='float64'>&#x25AA;&#x25AA;&#x25AA;&#x25AA;&#x25AA;&#x25AA;&#x25AA;&#x25AA;</td><td class='float' title='float64'>&#x25AA;&#x25AA;&#x25AA;&#x25AA;&#x25AA;&#x25AA;&#x25AA;&#x25AA;</td><td class='float' title='float64'>&#x25AA;&#x25AA;&#x25AA;&#x25AA;&#x25AA;&#x25AA;&#x25AA;&#x25AA;</td><td class='float' title='float64'>&#x25AA;&#x25AA;&#x25AA;&#x25AA;&#x25AA;&#x25AA;&#x25AA;&#x25AA;</td><td class='float' title='float64'>&#x25AA;&#x25AA;&#x25AA;&#x25AA;&#x25AA;&#x25AA;&#x25AA;&#x25AA;</td><td class='int' title='int64'>&#x25AA;&#x25AA;&#x25AA;&#x25AA;&#x25AA;&#x25AA;&#x25AA;&#x25AA;</td></tr>\n",
       "  </thead>\n",
       "  <tbody>\n",
       "    <tr><td class='row_index'>0</td><td>14.23</td><td>1.71</td><td>2.43</td><td>15.6</td><td>127</td><td>2.8</td><td>3.06</td><td>0.28</td><td>2.29</td><td>5.64</td><td>1.04</td><td>3.92</td><td>1065</td><td>0</td></tr>\n",
       "    <tr><td class='row_index'>1</td><td>13.2</td><td>1.78</td><td>2.14</td><td>11.2</td><td>100</td><td>2.65</td><td>2.76</td><td>0.26</td><td>1.28</td><td>4.38</td><td>1.05</td><td>3.4</td><td>1050</td><td>0</td></tr>\n",
       "    <tr><td class='row_index'>2</td><td>13.16</td><td>2.36</td><td>2.67</td><td>18.6</td><td>101</td><td>2.8</td><td>3.24</td><td>0.3</td><td>2.81</td><td>5.68</td><td>1.03</td><td>3.17</td><td>1185</td><td>0</td></tr>\n",
       "    <tr><td class='row_index'>3</td><td>14.37</td><td>1.95</td><td>2.5</td><td>16.8</td><td>113</td><td>3.85</td><td>3.49</td><td>0.24</td><td>2.18</td><td>7.8</td><td>0.86</td><td>3.45</td><td>1480</td><td>0</td></tr>\n",
       "    <tr><td class='row_index'>4</td><td>13.24</td><td>2.59</td><td>2.87</td><td>21</td><td>118</td><td>2.8</td><td>2.69</td><td>0.39</td><td>1.82</td><td>4.32</td><td>1.04</td><td>2.93</td><td>735</td><td>0</td></tr>\n",
       "    <tr><td class='row_index'>5</td><td>14.2</td><td>1.76</td><td>2.45</td><td>15.2</td><td>112</td><td>3.27</td><td>3.39</td><td>0.34</td><td>1.97</td><td>6.75</td><td>1.05</td><td>2.85</td><td>1450</td><td>0</td></tr>\n",
       "    <tr><td class='row_index'>6</td><td>14.39</td><td>1.87</td><td>2.45</td><td>14.6</td><td>96</td><td>2.5</td><td>2.52</td><td>0.3</td><td>1.98</td><td>5.25</td><td>1.02</td><td>3.58</td><td>1290</td><td>0</td></tr>\n",
       "    <tr><td class='row_index'>7</td><td>14.06</td><td>2.15</td><td>2.61</td><td>17.6</td><td>121</td><td>2.6</td><td>2.51</td><td>0.31</td><td>1.25</td><td>5.05</td><td>1.06</td><td>3.58</td><td>1295</td><td>0</td></tr>\n",
       "    <tr><td class='row_index'>8</td><td>14.83</td><td>1.64</td><td>2.17</td><td>14</td><td>97</td><td>2.8</td><td>2.98</td><td>0.29</td><td>1.98</td><td>5.2</td><td>1.08</td><td>2.85</td><td>1045</td><td>0</td></tr>\n",
       "    <tr><td class='row_index'>9</td><td>13.86</td><td>1.35</td><td>2.27</td><td>16</td><td>98</td><td>2.98</td><td>3.15</td><td>0.22</td><td>1.85</td><td>7.22</td><td>1.01</td><td>3.55</td><td>1045</td><td>0</td></tr>\n",
       "    <tr><td class='row_index'>10</td><td>14.1</td><td>2.16</td><td>2.3</td><td>18</td><td>105</td><td>2.95</td><td>3.32</td><td>0.22</td><td>2.38</td><td>5.75</td><td>1.25</td><td>3.17</td><td>1510</td><td>0</td></tr>\n",
       "    <tr><td class='row_index'>11</td><td>14.12</td><td>1.48</td><td>2.32</td><td>16.8</td><td>95</td><td>2.2</td><td>2.43</td><td>0.26</td><td>1.57</td><td>5</td><td>1.17</td><td>2.82</td><td>1280</td><td>0</td></tr>\n",
       "    <tr><td class='row_index'>12</td><td>13.75</td><td>1.73</td><td>2.41</td><td>16</td><td>89</td><td>2.6</td><td>2.76</td><td>0.29</td><td>1.81</td><td>5.6</td><td>1.15</td><td>2.9</td><td>1320</td><td>0</td></tr>\n",
       "    <tr><td class='row_index'>13</td><td>14.75</td><td>1.73</td><td>2.39</td><td>11.4</td><td>91</td><td>3.1</td><td>3.69</td><td>0.43</td><td>2.81</td><td>5.4</td><td>1.25</td><td>2.73</td><td>1150</td><td>0</td></tr>\n",
       "    <tr><td class='row_index'>14</td><td>14.38</td><td>1.87</td><td>2.38</td><td>12</td><td>102</td><td>3.3</td><td>3.64</td><td>0.29</td><td>2.96</td><td>7.5</td><td>1.2</td><td>3</td><td>1547</td><td>0</td></tr>\n",
       "    <tr><td class='row_index'>&#x22EE;</td><td class='hellipsis'>&#x22EE;</td><td class='hellipsis'>&#x22EE;</td><td class='hellipsis'>&#x22EE;</td><td class='hellipsis'>&#x22EE;</td><td class='hellipsis'>&#x22EE;</td><td class='hellipsis'>&#x22EE;</td><td class='hellipsis'>&#x22EE;</td><td class='hellipsis'>&#x22EE;</td><td class='hellipsis'>&#x22EE;</td><td class='hellipsis'>&#x22EE;</td><td class='hellipsis'>&#x22EE;</td><td class='hellipsis'>&#x22EE;</td><td class='hellipsis'>&#x22EE;</td><td class='hellipsis'>&#x22EE;</td></tr>\n",
       "    <tr><td class='row_index'>173</td><td>13.71</td><td>5.65</td><td>2.45</td><td>20.5</td><td>95</td><td>1.68</td><td>0.61</td><td>0.52</td><td>1.06</td><td>7.7</td><td>0.64</td><td>1.74</td><td>740</td><td>2</td></tr>\n",
       "    <tr><td class='row_index'>174</td><td>13.4</td><td>3.91</td><td>2.48</td><td>23</td><td>102</td><td>1.8</td><td>0.75</td><td>0.43</td><td>1.41</td><td>7.3</td><td>0.7</td><td>1.56</td><td>750</td><td>2</td></tr>\n",
       "    <tr><td class='row_index'>175</td><td>13.27</td><td>4.28</td><td>2.26</td><td>20</td><td>120</td><td>1.59</td><td>0.69</td><td>0.43</td><td>1.35</td><td>10.2</td><td>0.59</td><td>1.56</td><td>835</td><td>2</td></tr>\n",
       "    <tr><td class='row_index'>176</td><td>13.17</td><td>2.59</td><td>2.37</td><td>20</td><td>120</td><td>1.65</td><td>0.68</td><td>0.53</td><td>1.46</td><td>9.3</td><td>0.6</td><td>1.62</td><td>840</td><td>2</td></tr>\n",
       "    <tr><td class='row_index'>177</td><td>14.13</td><td>4.1</td><td>2.74</td><td>24.5</td><td>96</td><td>2.05</td><td>0.76</td><td>0.56</td><td>1.35</td><td>9.2</td><td>0.61</td><td>1.6</td><td>560</td><td>2</td></tr>\n",
       "  </tbody>\n",
       "  </table>\n",
       "  <div class='footer'>\n",
       "    <div class='frame_dimensions'>178 rows &times; 14 columns</div>\n",
       "  </div>\n",
       "</div>\n"
      ],
      "text/plain": [
       "<Frame#7f7608f735a0 178x14>"
      ]
     },
     "execution_count": 2,
     "metadata": {},
     "output_type": "execute_result"
    }
   ],
   "source": [
    "import datatable as dt\n",
    "from sklearn.datasets import load_wine\n",
    "\n",
    "data = dt.Frame(load_wine(as_frame=True).frame)\n",
    "data"
   ]
  },
  {
   "cell_type": "markdown",
   "id": "eed39b13",
   "metadata": {
    "papermill": {
     "duration": 0.023939,
     "end_time": "2022-01-01T05:28:04.090469",
     "exception": false,
     "start_time": "2022-01-01T05:28:04.066530",
     "status": "completed"
    },
    "tags": []
   },
   "source": [
    "**Exercise 41: Calculate the sum of column `ash` in `data`**"
   ]
  },
  {
   "cell_type": "code",
   "execution_count": 3,
   "id": "ff8f099e",
   "metadata": {
    "execution": {
     "iopub.execute_input": "2022-01-01T05:28:04.144979Z",
     "iopub.status.busy": "2022-01-01T05:28:04.143859Z",
     "iopub.status.idle": "2022-01-01T05:28:04.151499Z",
     "shell.execute_reply": "2022-01-01T05:28:04.150486Z",
     "shell.execute_reply.started": "2022-01-01T05:21:19.534077Z"
    },
    "papermill": {
     "duration": 0.037134,
     "end_time": "2022-01-01T05:28:04.151686",
     "exception": false,
     "start_time": "2022-01-01T05:28:04.114552",
     "status": "completed"
    },
    "tags": []
   },
   "outputs": [
    {
     "data": {
      "text/plain": [
       "421.2400000000002"
      ]
     },
     "execution_count": 3,
     "metadata": {},
     "output_type": "execute_result"
    }
   ],
   "source": [
    "data['ash'].sum1()"
   ]
  },
  {
   "cell_type": "markdown",
   "id": "a4e2a673",
   "metadata": {
    "papermill": {
     "duration": 0.026725,
     "end_time": "2022-01-01T05:28:04.208568",
     "exception": false,
     "start_time": "2022-01-01T05:28:04.181843",
     "status": "completed"
    },
    "tags": []
   },
   "source": [
    "**Exercise 42: Calculate the average value of each column in `data`**"
   ]
  },
  {
   "cell_type": "code",
   "execution_count": 4,
   "id": "ee326e5c",
   "metadata": {
    "execution": {
     "iopub.execute_input": "2022-01-01T05:28:04.265433Z",
     "iopub.status.busy": "2022-01-01T05:28:04.264644Z",
     "iopub.status.idle": "2022-01-01T05:28:04.269331Z",
     "shell.execute_reply": "2022-01-01T05:28:04.269870Z",
     "shell.execute_reply.started": "2022-01-01T05:21:19.550600Z"
    },
    "papermill": {
     "duration": 0.03825,
     "end_time": "2022-01-01T05:28:04.270106",
     "exception": false,
     "start_time": "2022-01-01T05:28:04.231856",
     "status": "completed"
    },
    "tags": []
   },
   "outputs": [
    {
     "data": {
      "text/html": [
       "<div class='datatable'>\n",
       "  <table class='frame'>\n",
       "  <thead>\n",
       "    <tr class='colnames'><td class='row_index'></td><th>alcohol</th><th>malic_acid</th><th>ash</th><th>alcalinity_of_ash</th><th>magnesium</th><th>total_phenols</th><th>flavanoids</th><th>nonflavanoid_phenols</th><th>proanthocyanins</th><th>color_intensity</th><th>hue</th><th>od280/od315_of_diluted_wines</th><th>proline</th><th>target</th></tr>\n",
       "    <tr class='coltypes'><td class='row_index'></td><td class='float' title='float64'>&#x25AA;&#x25AA;&#x25AA;&#x25AA;&#x25AA;&#x25AA;&#x25AA;&#x25AA;</td><td class='float' title='float64'>&#x25AA;&#x25AA;&#x25AA;&#x25AA;&#x25AA;&#x25AA;&#x25AA;&#x25AA;</td><td class='float' title='float64'>&#x25AA;&#x25AA;&#x25AA;&#x25AA;&#x25AA;&#x25AA;&#x25AA;&#x25AA;</td><td class='float' title='float64'>&#x25AA;&#x25AA;&#x25AA;&#x25AA;&#x25AA;&#x25AA;&#x25AA;&#x25AA;</td><td class='float' title='float64'>&#x25AA;&#x25AA;&#x25AA;&#x25AA;&#x25AA;&#x25AA;&#x25AA;&#x25AA;</td><td class='float' title='float64'>&#x25AA;&#x25AA;&#x25AA;&#x25AA;&#x25AA;&#x25AA;&#x25AA;&#x25AA;</td><td class='float' title='float64'>&#x25AA;&#x25AA;&#x25AA;&#x25AA;&#x25AA;&#x25AA;&#x25AA;&#x25AA;</td><td class='float' title='float64'>&#x25AA;&#x25AA;&#x25AA;&#x25AA;&#x25AA;&#x25AA;&#x25AA;&#x25AA;</td><td class='float' title='float64'>&#x25AA;&#x25AA;&#x25AA;&#x25AA;&#x25AA;&#x25AA;&#x25AA;&#x25AA;</td><td class='float' title='float64'>&#x25AA;&#x25AA;&#x25AA;&#x25AA;&#x25AA;&#x25AA;&#x25AA;&#x25AA;</td><td class='float' title='float64'>&#x25AA;&#x25AA;&#x25AA;&#x25AA;&#x25AA;&#x25AA;&#x25AA;&#x25AA;</td><td class='float' title='float64'>&#x25AA;&#x25AA;&#x25AA;&#x25AA;&#x25AA;&#x25AA;&#x25AA;&#x25AA;</td><td class='float' title='float64'>&#x25AA;&#x25AA;&#x25AA;&#x25AA;&#x25AA;&#x25AA;&#x25AA;&#x25AA;</td><td class='float' title='float64'>&#x25AA;&#x25AA;&#x25AA;&#x25AA;&#x25AA;&#x25AA;&#x25AA;&#x25AA;</td></tr>\n",
       "  </thead>\n",
       "  <tbody>\n",
       "    <tr><td class='row_index'>0</td><td>13.0006</td><td>2.33635</td><td>2.36652</td><td>19.4949</td><td>99.7416</td><td>2.29511</td><td>2.02927</td><td>0.361854</td><td>1.5909</td><td>5.05809</td><td>0.957449</td><td>2.61169</td><td>746.893</td><td>0.938202</td></tr>\n",
       "  </tbody>\n",
       "  </table>\n",
       "  <div class='footer'>\n",
       "    <div class='frame_dimensions'>1 row &times; 14 columns</div>\n",
       "  </div>\n",
       "</div>\n"
      ],
      "text/plain": [
       "<Frame#7f7608658240 1x14>"
      ]
     },
     "execution_count": 4,
     "metadata": {},
     "output_type": "execute_result"
    }
   ],
   "source": [
    "data.mean()"
   ]
  },
  {
   "cell_type": "markdown",
   "id": "853a436c",
   "metadata": {
    "papermill": {
     "duration": 0.027656,
     "end_time": "2022-01-01T05:28:04.327868",
     "exception": false,
     "start_time": "2022-01-01T05:28:04.300212",
     "status": "completed"
    },
    "tags": []
   },
   "source": [
    "**Exercise 43: Calculate the minimum value and maximum value of each column in `data` where `target` is 1**"
   ]
  },
  {
   "cell_type": "code",
   "execution_count": 5,
   "id": "e7a6c066",
   "metadata": {
    "execution": {
     "iopub.execute_input": "2022-01-01T05:28:04.385423Z",
     "iopub.status.busy": "2022-01-01T05:28:04.384654Z",
     "iopub.status.idle": "2022-01-01T05:28:04.389246Z",
     "shell.execute_reply": "2022-01-01T05:28:04.389808Z",
     "shell.execute_reply.started": "2022-01-01T05:21:19.565898Z"
    },
    "papermill": {
     "duration": 0.03829,
     "end_time": "2022-01-01T05:28:04.390015",
     "exception": false,
     "start_time": "2022-01-01T05:28:04.351725",
     "status": "completed"
    },
    "tags": []
   },
   "outputs": [
    {
     "data": {
      "text/html": [
       "<div class='datatable'>\n",
       "  <table class='frame'>\n",
       "  <thead>\n",
       "    <tr class='colnames'><td class='row_index'></td><th>alcohol</th><th>malic_acid</th><th>ash</th><th>alcalinity_of_ash</th><th>magnesium</th><th>total_phenols</th><th>flavanoids</th><th>nonflavanoid_phenols</th><th>proanthocyanins</th><th>color_intensity</th><th>hue</th><th>od280/od315_of_diluted_wines</th><th>proline</th><th>target</th></tr>\n",
       "    <tr class='coltypes'><td class='row_index'></td><td class='float' title='float64'>&#x25AA;&#x25AA;&#x25AA;&#x25AA;&#x25AA;&#x25AA;&#x25AA;&#x25AA;</td><td class='float' title='float64'>&#x25AA;&#x25AA;&#x25AA;&#x25AA;&#x25AA;&#x25AA;&#x25AA;&#x25AA;</td><td class='float' title='float64'>&#x25AA;&#x25AA;&#x25AA;&#x25AA;&#x25AA;&#x25AA;&#x25AA;&#x25AA;</td><td class='float' title='float64'>&#x25AA;&#x25AA;&#x25AA;&#x25AA;&#x25AA;&#x25AA;&#x25AA;&#x25AA;</td><td class='float' title='float64'>&#x25AA;&#x25AA;&#x25AA;&#x25AA;&#x25AA;&#x25AA;&#x25AA;&#x25AA;</td><td class='float' title='float64'>&#x25AA;&#x25AA;&#x25AA;&#x25AA;&#x25AA;&#x25AA;&#x25AA;&#x25AA;</td><td class='float' title='float64'>&#x25AA;&#x25AA;&#x25AA;&#x25AA;&#x25AA;&#x25AA;&#x25AA;&#x25AA;</td><td class='float' title='float64'>&#x25AA;&#x25AA;&#x25AA;&#x25AA;&#x25AA;&#x25AA;&#x25AA;&#x25AA;</td><td class='float' title='float64'>&#x25AA;&#x25AA;&#x25AA;&#x25AA;&#x25AA;&#x25AA;&#x25AA;&#x25AA;</td><td class='float' title='float64'>&#x25AA;&#x25AA;&#x25AA;&#x25AA;&#x25AA;&#x25AA;&#x25AA;&#x25AA;</td><td class='float' title='float64'>&#x25AA;&#x25AA;&#x25AA;&#x25AA;&#x25AA;&#x25AA;&#x25AA;&#x25AA;</td><td class='float' title='float64'>&#x25AA;&#x25AA;&#x25AA;&#x25AA;&#x25AA;&#x25AA;&#x25AA;&#x25AA;</td><td class='float' title='float64'>&#x25AA;&#x25AA;&#x25AA;&#x25AA;&#x25AA;&#x25AA;&#x25AA;&#x25AA;</td><td class='int' title='int64'>&#x25AA;&#x25AA;&#x25AA;&#x25AA;&#x25AA;&#x25AA;&#x25AA;&#x25AA;</td></tr>\n",
       "  </thead>\n",
       "  <tbody>\n",
       "    <tr><td class='row_index'>0</td><td>11.03</td><td>0.74</td><td>1.36</td><td>10.6</td><td>70</td><td>1.1</td><td>0.57</td><td>0.13</td><td>0.41</td><td>1.28</td><td>0.69</td><td>1.59</td><td>278</td><td>1</td></tr>\n",
       "  </tbody>\n",
       "  </table>\n",
       "  <div class='footer'>\n",
       "    <div class='frame_dimensions'>1 row &times; 14 columns</div>\n",
       "  </div>\n",
       "</div>\n"
      ],
      "text/plain": [
       "<Frame#7f75ffd510f0 1x14>"
      ]
     },
     "execution_count": 5,
     "metadata": {},
     "output_type": "execute_result"
    }
   ],
   "source": [
    "data[dt.f.target == 1, :].min()"
   ]
  },
  {
   "cell_type": "code",
   "execution_count": 6,
   "id": "518ba884",
   "metadata": {
    "execution": {
     "iopub.execute_input": "2022-01-01T05:28:04.459716Z",
     "iopub.status.busy": "2022-01-01T05:28:04.458899Z",
     "iopub.status.idle": "2022-01-01T05:28:04.463899Z",
     "shell.execute_reply": "2022-01-01T05:28:04.464427Z",
     "shell.execute_reply.started": "2022-01-01T05:21:19.581453Z"
    },
    "papermill": {
     "duration": 0.043993,
     "end_time": "2022-01-01T05:28:04.464652",
     "exception": false,
     "start_time": "2022-01-01T05:28:04.420659",
     "status": "completed"
    },
    "tags": []
   },
   "outputs": [
    {
     "data": {
      "text/html": [
       "<div class='datatable'>\n",
       "  <table class='frame'>\n",
       "  <thead>\n",
       "    <tr class='colnames'><td class='row_index'></td><th>alcohol</th><th>malic_acid</th><th>ash</th><th>alcalinity_of_ash</th><th>magnesium</th><th>total_phenols</th><th>flavanoids</th><th>nonflavanoid_phenols</th><th>proanthocyanins</th><th>color_intensity</th><th>hue</th><th>od280/od315_of_diluted_wines</th><th>proline</th><th>target</th></tr>\n",
       "    <tr class='coltypes'><td class='row_index'></td><td class='float' title='float64'>&#x25AA;&#x25AA;&#x25AA;&#x25AA;&#x25AA;&#x25AA;&#x25AA;&#x25AA;</td><td class='float' title='float64'>&#x25AA;&#x25AA;&#x25AA;&#x25AA;&#x25AA;&#x25AA;&#x25AA;&#x25AA;</td><td class='float' title='float64'>&#x25AA;&#x25AA;&#x25AA;&#x25AA;&#x25AA;&#x25AA;&#x25AA;&#x25AA;</td><td class='float' title='float64'>&#x25AA;&#x25AA;&#x25AA;&#x25AA;&#x25AA;&#x25AA;&#x25AA;&#x25AA;</td><td class='float' title='float64'>&#x25AA;&#x25AA;&#x25AA;&#x25AA;&#x25AA;&#x25AA;&#x25AA;&#x25AA;</td><td class='float' title='float64'>&#x25AA;&#x25AA;&#x25AA;&#x25AA;&#x25AA;&#x25AA;&#x25AA;&#x25AA;</td><td class='float' title='float64'>&#x25AA;&#x25AA;&#x25AA;&#x25AA;&#x25AA;&#x25AA;&#x25AA;&#x25AA;</td><td class='float' title='float64'>&#x25AA;&#x25AA;&#x25AA;&#x25AA;&#x25AA;&#x25AA;&#x25AA;&#x25AA;</td><td class='float' title='float64'>&#x25AA;&#x25AA;&#x25AA;&#x25AA;&#x25AA;&#x25AA;&#x25AA;&#x25AA;</td><td class='float' title='float64'>&#x25AA;&#x25AA;&#x25AA;&#x25AA;&#x25AA;&#x25AA;&#x25AA;&#x25AA;</td><td class='float' title='float64'>&#x25AA;&#x25AA;&#x25AA;&#x25AA;&#x25AA;&#x25AA;&#x25AA;&#x25AA;</td><td class='float' title='float64'>&#x25AA;&#x25AA;&#x25AA;&#x25AA;&#x25AA;&#x25AA;&#x25AA;&#x25AA;</td><td class='float' title='float64'>&#x25AA;&#x25AA;&#x25AA;&#x25AA;&#x25AA;&#x25AA;&#x25AA;&#x25AA;</td><td class='int' title='int64'>&#x25AA;&#x25AA;&#x25AA;&#x25AA;&#x25AA;&#x25AA;&#x25AA;&#x25AA;</td></tr>\n",
       "  </thead>\n",
       "  <tbody>\n",
       "    <tr><td class='row_index'>0</td><td>13.86</td><td>5.8</td><td>3.23</td><td>30</td><td>162</td><td>3.52</td><td>5.08</td><td>0.66</td><td>3.58</td><td>6</td><td>1.71</td><td>3.69</td><td>985</td><td>1</td></tr>\n",
       "  </tbody>\n",
       "  </table>\n",
       "  <div class='footer'>\n",
       "    <div class='frame_dimensions'>1 row &times; 14 columns</div>\n",
       "  </div>\n",
       "</div>\n"
      ],
      "text/plain": [
       "<Frame#7f75ffd51cc0 1x14>"
      ]
     },
     "execution_count": 6,
     "metadata": {},
     "output_type": "execute_result"
    }
   ],
   "source": [
    "data[dt.f.target == 1, :].max()"
   ]
  },
  {
   "cell_type": "markdown",
   "id": "5ab47d66",
   "metadata": {
    "papermill": {
     "duration": 0.029157,
     "end_time": "2022-01-01T05:28:04.524543",
     "exception": false,
     "start_time": "2022-01-01T05:28:04.495386",
     "status": "completed"
    },
    "tags": []
   },
   "source": [
    "**Exercise 44: Calculate the median value of columns `flavanoids`, `hue` and `magnesium` in `data`**"
   ]
  },
  {
   "cell_type": "code",
   "execution_count": 7,
   "id": "54247134",
   "metadata": {
    "execution": {
     "iopub.execute_input": "2022-01-01T05:28:04.585552Z",
     "iopub.status.busy": "2022-01-01T05:28:04.584765Z",
     "iopub.status.idle": "2022-01-01T05:28:04.589556Z",
     "shell.execute_reply": "2022-01-01T05:28:04.590107Z",
     "shell.execute_reply.started": "2022-01-01T05:21:19.595952Z"
    },
    "papermill": {
     "duration": 0.03918,
     "end_time": "2022-01-01T05:28:04.590359",
     "exception": false,
     "start_time": "2022-01-01T05:28:04.551179",
     "status": "completed"
    },
    "tags": []
   },
   "outputs": [
    {
     "data": {
      "text/html": [
       "<div class='datatable'>\n",
       "  <table class='frame'>\n",
       "  <thead>\n",
       "    <tr class='colnames'><td class='row_index'></td><th>flavanoids</th><th>hue</th><th>magnesium</th></tr>\n",
       "    <tr class='coltypes'><td class='row_index'></td><td class='float' title='float64'>&#x25AA;&#x25AA;&#x25AA;&#x25AA;&#x25AA;&#x25AA;&#x25AA;&#x25AA;</td><td class='float' title='float64'>&#x25AA;&#x25AA;&#x25AA;&#x25AA;&#x25AA;&#x25AA;&#x25AA;&#x25AA;</td><td class='float' title='float64'>&#x25AA;&#x25AA;&#x25AA;&#x25AA;&#x25AA;&#x25AA;&#x25AA;&#x25AA;</td></tr>\n",
       "  </thead>\n",
       "  <tbody>\n",
       "    <tr><td class='row_index'>0</td><td>2.135</td><td>0.965</td><td>98</td></tr>\n",
       "  </tbody>\n",
       "  </table>\n",
       "  <div class='footer'>\n",
       "    <div class='frame_dimensions'>1 row &times; 3 columns</div>\n",
       "  </div>\n",
       "</div>\n"
      ],
      "text/plain": [
       "<Frame#7f75ffd682d0 1x3>"
      ]
     },
     "execution_count": 7,
     "metadata": {},
     "output_type": "execute_result"
    }
   ],
   "source": [
    "data[:, dt.median([dt.f.flavanoids, dt.f.hue, dt.f.magnesium])]"
   ]
  },
  {
   "cell_type": "markdown",
   "id": "ddd67292",
   "metadata": {
    "papermill": {
     "duration": 0.027818,
     "end_time": "2022-01-01T05:28:04.650439",
     "exception": false,
     "start_time": "2022-01-01T05:28:04.622621",
     "status": "completed"
    },
    "tags": []
   },
   "source": [
    "**Exercise 45: Calculate the mode of columns `magnesium` and `hue` in `data`**"
   ]
  },
  {
   "cell_type": "code",
   "execution_count": 8,
   "id": "fa9f7601",
   "metadata": {
    "execution": {
     "iopub.execute_input": "2022-01-01T05:28:04.711471Z",
     "iopub.status.busy": "2022-01-01T05:28:04.710692Z",
     "iopub.status.idle": "2022-01-01T05:28:04.715410Z",
     "shell.execute_reply": "2022-01-01T05:28:04.715923Z",
     "shell.execute_reply.started": "2022-01-01T05:26:44.992665Z"
    },
    "papermill": {
     "duration": 0.040441,
     "end_time": "2022-01-01T05:28:04.716154",
     "exception": false,
     "start_time": "2022-01-01T05:28:04.675713",
     "status": "completed"
    },
    "tags": []
   },
   "outputs": [
    {
     "data": {
      "text/html": [
       "<div class='datatable'>\n",
       "  <table class='frame'>\n",
       "  <thead>\n",
       "    <tr class='colnames'><td class='row_index'></td><th>magnesium</th><th>hue</th></tr>\n",
       "    <tr class='coltypes'><td class='row_index'></td><td class='float' title='float64'>&#x25AA;&#x25AA;&#x25AA;&#x25AA;&#x25AA;&#x25AA;&#x25AA;&#x25AA;</td><td class='float' title='float64'>&#x25AA;&#x25AA;&#x25AA;&#x25AA;&#x25AA;&#x25AA;&#x25AA;&#x25AA;</td></tr>\n",
       "  </thead>\n",
       "  <tbody>\n",
       "    <tr><td class='row_index'>0</td><td>88</td><td>1.04</td></tr>\n",
       "  </tbody>\n",
       "  </table>\n",
       "  <div class='footer'>\n",
       "    <div class='frame_dimensions'>1 row &times; 2 columns</div>\n",
       "  </div>\n",
       "</div>\n"
      ],
      "text/plain": [
       "<Frame#7f76086581e0 1x2>"
      ]
     },
     "execution_count": 8,
     "metadata": {},
     "output_type": "execute_result"
    }
   ],
   "source": [
    "data[:, ['magnesium', 'hue']].mode()"
   ]
  },
  {
   "cell_type": "markdown",
   "id": "a25cc1a2",
   "metadata": {
    "papermill": {
     "duration": 0.028314,
     "end_time": "2022-01-01T05:28:04.775777",
     "exception": false,
     "start_time": "2022-01-01T05:28:04.747463",
     "status": "completed"
    },
    "tags": []
   },
   "source": [
    "**Exercise 46: Calculate the standard deviation, skewness and excess kurtosis of each column in `data`**"
   ]
  },
  {
   "cell_type": "code",
   "execution_count": 9,
   "id": "1fe90623",
   "metadata": {
    "execution": {
     "iopub.execute_input": "2022-01-01T05:28:04.833530Z",
     "iopub.status.busy": "2022-01-01T05:28:04.832568Z",
     "iopub.status.idle": "2022-01-01T05:28:04.837099Z",
     "shell.execute_reply": "2022-01-01T05:28:04.837643Z",
     "shell.execute_reply.started": "2021-07-15T18:01:49.729164Z"
    },
    "papermill": {
     "duration": 0.036203,
     "end_time": "2022-01-01T05:28:04.837836",
     "exception": false,
     "start_time": "2022-01-01T05:28:04.801633",
     "status": "completed"
    },
    "tags": []
   },
   "outputs": [
    {
     "data": {
      "text/html": [
       "<div class='datatable'>\n",
       "  <table class='frame'>\n",
       "  <thead>\n",
       "    <tr class='colnames'><td class='row_index'></td><th>alcohol</th><th>malic_acid</th><th>ash</th><th>alcalinity_of_ash</th><th>magnesium</th><th>total_phenols</th><th>flavanoids</th><th>nonflavanoid_phenols</th><th>proanthocyanins</th><th>color_intensity</th><th>hue</th><th>od280/od315_of_diluted_wines</th><th>proline</th><th>target</th></tr>\n",
       "    <tr class='coltypes'><td class='row_index'></td><td class='float' title='float64'>&#x25AA;&#x25AA;&#x25AA;&#x25AA;&#x25AA;&#x25AA;&#x25AA;&#x25AA;</td><td class='float' title='float64'>&#x25AA;&#x25AA;&#x25AA;&#x25AA;&#x25AA;&#x25AA;&#x25AA;&#x25AA;</td><td class='float' title='float64'>&#x25AA;&#x25AA;&#x25AA;&#x25AA;&#x25AA;&#x25AA;&#x25AA;&#x25AA;</td><td class='float' title='float64'>&#x25AA;&#x25AA;&#x25AA;&#x25AA;&#x25AA;&#x25AA;&#x25AA;&#x25AA;</td><td class='float' title='float64'>&#x25AA;&#x25AA;&#x25AA;&#x25AA;&#x25AA;&#x25AA;&#x25AA;&#x25AA;</td><td class='float' title='float64'>&#x25AA;&#x25AA;&#x25AA;&#x25AA;&#x25AA;&#x25AA;&#x25AA;&#x25AA;</td><td class='float' title='float64'>&#x25AA;&#x25AA;&#x25AA;&#x25AA;&#x25AA;&#x25AA;&#x25AA;&#x25AA;</td><td class='float' title='float64'>&#x25AA;&#x25AA;&#x25AA;&#x25AA;&#x25AA;&#x25AA;&#x25AA;&#x25AA;</td><td class='float' title='float64'>&#x25AA;&#x25AA;&#x25AA;&#x25AA;&#x25AA;&#x25AA;&#x25AA;&#x25AA;</td><td class='float' title='float64'>&#x25AA;&#x25AA;&#x25AA;&#x25AA;&#x25AA;&#x25AA;&#x25AA;&#x25AA;</td><td class='float' title='float64'>&#x25AA;&#x25AA;&#x25AA;&#x25AA;&#x25AA;&#x25AA;&#x25AA;&#x25AA;</td><td class='float' title='float64'>&#x25AA;&#x25AA;&#x25AA;&#x25AA;&#x25AA;&#x25AA;&#x25AA;&#x25AA;</td><td class='float' title='float64'>&#x25AA;&#x25AA;&#x25AA;&#x25AA;&#x25AA;&#x25AA;&#x25AA;&#x25AA;</td><td class='float' title='float64'>&#x25AA;&#x25AA;&#x25AA;&#x25AA;&#x25AA;&#x25AA;&#x25AA;&#x25AA;</td></tr>\n",
       "  </thead>\n",
       "  <tbody>\n",
       "    <tr><td class='row_index'>0</td><td>0.811827</td><td>1.11715</td><td>0.274344</td><td>3.33956</td><td>14.2825</td><td>0.625851</td><td>0.998859</td><td>0.124453</td><td>0.572359</td><td>2.31829</td><td>0.228572</td><td>0.70999</td><td>314.907</td><td>0.775035</td></tr>\n",
       "  </tbody>\n",
       "  </table>\n",
       "  <div class='footer'>\n",
       "    <div class='frame_dimensions'>1 row &times; 14 columns</div>\n",
       "  </div>\n",
       "</div>\n"
      ],
      "text/plain": [
       "<Frame#7f75ffd51600 1x14>"
      ]
     },
     "execution_count": 9,
     "metadata": {},
     "output_type": "execute_result"
    }
   ],
   "source": [
    "data.sd()"
   ]
  },
  {
   "cell_type": "code",
   "execution_count": 10,
   "id": "f5210c79",
   "metadata": {
    "execution": {
     "iopub.execute_input": "2022-01-01T05:28:04.898320Z",
     "iopub.status.busy": "2022-01-01T05:28:04.893185Z",
     "iopub.status.idle": "2022-01-01T05:28:04.902247Z",
     "shell.execute_reply": "2022-01-01T05:28:04.902787Z",
     "shell.execute_reply.started": "2021-07-15T18:01:50.511123Z"
    },
    "papermill": {
     "duration": 0.039082,
     "end_time": "2022-01-01T05:28:04.903018",
     "exception": false,
     "start_time": "2022-01-01T05:28:04.863936",
     "status": "completed"
    },
    "tags": []
   },
   "outputs": [
    {
     "data": {
      "text/html": [
       "<div class='datatable'>\n",
       "  <table class='frame'>\n",
       "  <thead>\n",
       "    <tr class='colnames'><td class='row_index'></td><th>alcohol</th><th>malic_acid</th><th>ash</th><th>alcalinity_of_ash</th><th>magnesium</th><th>total_phenols</th><th>flavanoids</th><th>nonflavanoid_phenols</th><th>proanthocyanins</th><th>color_intensity</th><th>hue</th><th>od280/od315_of_diluted_wines</th><th>proline</th><th>target</th></tr>\n",
       "    <tr class='coltypes'><td class='row_index'></td><td class='float' title='float64'>&#x25AA;&#x25AA;&#x25AA;&#x25AA;&#x25AA;&#x25AA;&#x25AA;&#x25AA;</td><td class='float' title='float64'>&#x25AA;&#x25AA;&#x25AA;&#x25AA;&#x25AA;&#x25AA;&#x25AA;&#x25AA;</td><td class='float' title='float64'>&#x25AA;&#x25AA;&#x25AA;&#x25AA;&#x25AA;&#x25AA;&#x25AA;&#x25AA;</td><td class='float' title='float64'>&#x25AA;&#x25AA;&#x25AA;&#x25AA;&#x25AA;&#x25AA;&#x25AA;&#x25AA;</td><td class='float' title='float64'>&#x25AA;&#x25AA;&#x25AA;&#x25AA;&#x25AA;&#x25AA;&#x25AA;&#x25AA;</td><td class='float' title='float64'>&#x25AA;&#x25AA;&#x25AA;&#x25AA;&#x25AA;&#x25AA;&#x25AA;&#x25AA;</td><td class='float' title='float64'>&#x25AA;&#x25AA;&#x25AA;&#x25AA;&#x25AA;&#x25AA;&#x25AA;&#x25AA;</td><td class='float' title='float64'>&#x25AA;&#x25AA;&#x25AA;&#x25AA;&#x25AA;&#x25AA;&#x25AA;&#x25AA;</td><td class='float' title='float64'>&#x25AA;&#x25AA;&#x25AA;&#x25AA;&#x25AA;&#x25AA;&#x25AA;&#x25AA;</td><td class='float' title='float64'>&#x25AA;&#x25AA;&#x25AA;&#x25AA;&#x25AA;&#x25AA;&#x25AA;&#x25AA;</td><td class='float' title='float64'>&#x25AA;&#x25AA;&#x25AA;&#x25AA;&#x25AA;&#x25AA;&#x25AA;&#x25AA;</td><td class='float' title='float64'>&#x25AA;&#x25AA;&#x25AA;&#x25AA;&#x25AA;&#x25AA;&#x25AA;&#x25AA;</td><td class='float' title='float64'>&#x25AA;&#x25AA;&#x25AA;&#x25AA;&#x25AA;&#x25AA;&#x25AA;&#x25AA;</td><td class='float' title='float64'>&#x25AA;&#x25AA;&#x25AA;&#x25AA;&#x25AA;&#x25AA;&#x25AA;&#x25AA;</td></tr>\n",
       "  </thead>\n",
       "  <tbody>\n",
       "    <tr><td class='row_index'>0</td><td>&minus;0.0514823</td><td>1.03965</td><td>&minus;0.176699</td><td>0.213047</td><td>1.09819</td><td>0.0866386</td><td>0.0253436</td><td>0.450151</td><td>0.517137</td><td>0.868585</td><td>0.0210913</td><td>&minus;0.307285</td><td>0.767822</td><td>0.107431</td></tr>\n",
       "  </tbody>\n",
       "  </table>\n",
       "  <div class='footer'>\n",
       "    <div class='frame_dimensions'>1 row &times; 14 columns</div>\n",
       "  </div>\n",
       "</div>\n"
      ],
      "text/plain": [
       "<Frame#7f75ffd51540 1x14>"
      ]
     },
     "execution_count": 10,
     "metadata": {},
     "output_type": "execute_result"
    }
   ],
   "source": [
    "data.skew()"
   ]
  },
  {
   "cell_type": "code",
   "execution_count": 11,
   "id": "3e44a8b1",
   "metadata": {
    "execution": {
     "iopub.execute_input": "2022-01-01T05:28:04.970343Z",
     "iopub.status.busy": "2022-01-01T05:28:04.969516Z",
     "iopub.status.idle": "2022-01-01T05:28:04.973779Z",
     "shell.execute_reply": "2022-01-01T05:28:04.974384Z",
     "shell.execute_reply.started": "2021-07-15T18:01:51.137565Z"
    },
    "papermill": {
     "duration": 0.039836,
     "end_time": "2022-01-01T05:28:04.974549",
     "exception": false,
     "start_time": "2022-01-01T05:28:04.934713",
     "status": "completed"
    },
    "tags": []
   },
   "outputs": [
    {
     "data": {
      "text/html": [
       "<div class='datatable'>\n",
       "  <table class='frame'>\n",
       "  <thead>\n",
       "    <tr class='colnames'><td class='row_index'></td><th>alcohol</th><th>malic_acid</th><th>ash</th><th>alcalinity_of_ash</th><th>magnesium</th><th>total_phenols</th><th>flavanoids</th><th>nonflavanoid_phenols</th><th>proanthocyanins</th><th>color_intensity</th><th>hue</th><th>od280/od315_of_diluted_wines</th><th>proline</th><th>target</th></tr>\n",
       "    <tr class='coltypes'><td class='row_index'></td><td class='float' title='float64'>&#x25AA;&#x25AA;&#x25AA;&#x25AA;&#x25AA;&#x25AA;&#x25AA;&#x25AA;</td><td class='float' title='float64'>&#x25AA;&#x25AA;&#x25AA;&#x25AA;&#x25AA;&#x25AA;&#x25AA;&#x25AA;</td><td class='float' title='float64'>&#x25AA;&#x25AA;&#x25AA;&#x25AA;&#x25AA;&#x25AA;&#x25AA;&#x25AA;</td><td class='float' title='float64'>&#x25AA;&#x25AA;&#x25AA;&#x25AA;&#x25AA;&#x25AA;&#x25AA;&#x25AA;</td><td class='float' title='float64'>&#x25AA;&#x25AA;&#x25AA;&#x25AA;&#x25AA;&#x25AA;&#x25AA;&#x25AA;</td><td class='float' title='float64'>&#x25AA;&#x25AA;&#x25AA;&#x25AA;&#x25AA;&#x25AA;&#x25AA;&#x25AA;</td><td class='float' title='float64'>&#x25AA;&#x25AA;&#x25AA;&#x25AA;&#x25AA;&#x25AA;&#x25AA;&#x25AA;</td><td class='float' title='float64'>&#x25AA;&#x25AA;&#x25AA;&#x25AA;&#x25AA;&#x25AA;&#x25AA;&#x25AA;</td><td class='float' title='float64'>&#x25AA;&#x25AA;&#x25AA;&#x25AA;&#x25AA;&#x25AA;&#x25AA;&#x25AA;</td><td class='float' title='float64'>&#x25AA;&#x25AA;&#x25AA;&#x25AA;&#x25AA;&#x25AA;&#x25AA;&#x25AA;</td><td class='float' title='float64'>&#x25AA;&#x25AA;&#x25AA;&#x25AA;&#x25AA;&#x25AA;&#x25AA;&#x25AA;</td><td class='float' title='float64'>&#x25AA;&#x25AA;&#x25AA;&#x25AA;&#x25AA;&#x25AA;&#x25AA;&#x25AA;</td><td class='float' title='float64'>&#x25AA;&#x25AA;&#x25AA;&#x25AA;&#x25AA;&#x25AA;&#x25AA;&#x25AA;</td><td class='float' title='float64'>&#x25AA;&#x25AA;&#x25AA;&#x25AA;&#x25AA;&#x25AA;&#x25AA;&#x25AA;</td></tr>\n",
       "  </thead>\n",
       "  <tbody>\n",
       "    <tr><td class='row_index'>0</td><td>&minus;0.8525</td><td>0.299207</td><td>1.14398</td><td>0.487942</td><td>2.10499</td><td>&minus;0.835627</td><td>&minus;0.880382</td><td>&minus;0.637191</td><td>0.554649</td><td>0.381522</td><td>&minus;0.344096</td><td>&minus;1.08643</td><td>&minus;0.248403</td><td>&minus;1.32279</td></tr>\n",
       "  </tbody>\n",
       "  </table>\n",
       "  <div class='footer'>\n",
       "    <div class='frame_dimensions'>1 row &times; 14 columns</div>\n",
       "  </div>\n",
       "</div>\n"
      ],
      "text/plain": [
       "<Frame#7f75ffd68450 1x14>"
      ]
     },
     "execution_count": 11,
     "metadata": {},
     "output_type": "execute_result"
    }
   ],
   "source": [
    "data.kurt()"
   ]
  },
  {
   "cell_type": "markdown",
   "id": "47933228",
   "metadata": {
    "papermill": {
     "duration": 0.027433,
     "end_time": "2022-01-01T05:28:05.028893",
     "exception": false,
     "start_time": "2022-01-01T05:28:05.001460",
     "status": "completed"
    },
    "tags": []
   },
   "source": [
    "**Exercise 47: Calculate the number of unique values in each column of `data`**"
   ]
  },
  {
   "cell_type": "code",
   "execution_count": 12,
   "id": "58e3f19e",
   "metadata": {
    "execution": {
     "iopub.execute_input": "2022-01-01T05:28:05.086240Z",
     "iopub.status.busy": "2022-01-01T05:28:05.085574Z",
     "iopub.status.idle": "2022-01-01T05:28:05.093557Z",
     "shell.execute_reply": "2022-01-01T05:28:05.094149Z",
     "shell.execute_reply.started": "2021-07-15T18:02:28.068775Z"
    },
    "papermill": {
     "duration": 0.038643,
     "end_time": "2022-01-01T05:28:05.094390",
     "exception": false,
     "start_time": "2022-01-01T05:28:05.055747",
     "status": "completed"
    },
    "tags": []
   },
   "outputs": [
    {
     "data": {
      "text/html": [
       "<div class='datatable'>\n",
       "  <table class='frame'>\n",
       "  <thead>\n",
       "    <tr class='colnames'><td class='row_index'></td><th>alcohol</th><th>malic_acid</th><th>ash</th><th>alcalinity_of_ash</th><th>magnesium</th><th>total_phenols</th><th>flavanoids</th><th>nonflavanoid_phenols</th><th>proanthocyanins</th><th>color_intensity</th><th>hue</th><th>od280/od315_of_diluted_wines</th><th>proline</th><th>target</th></tr>\n",
       "    <tr class='coltypes'><td class='row_index'></td><td class='int' title='int64'>&#x25AA;&#x25AA;&#x25AA;&#x25AA;&#x25AA;&#x25AA;&#x25AA;&#x25AA;</td><td class='int' title='int64'>&#x25AA;&#x25AA;&#x25AA;&#x25AA;&#x25AA;&#x25AA;&#x25AA;&#x25AA;</td><td class='int' title='int64'>&#x25AA;&#x25AA;&#x25AA;&#x25AA;&#x25AA;&#x25AA;&#x25AA;&#x25AA;</td><td class='int' title='int64'>&#x25AA;&#x25AA;&#x25AA;&#x25AA;&#x25AA;&#x25AA;&#x25AA;&#x25AA;</td><td class='int' title='int64'>&#x25AA;&#x25AA;&#x25AA;&#x25AA;&#x25AA;&#x25AA;&#x25AA;&#x25AA;</td><td class='int' title='int64'>&#x25AA;&#x25AA;&#x25AA;&#x25AA;&#x25AA;&#x25AA;&#x25AA;&#x25AA;</td><td class='int' title='int64'>&#x25AA;&#x25AA;&#x25AA;&#x25AA;&#x25AA;&#x25AA;&#x25AA;&#x25AA;</td><td class='int' title='int64'>&#x25AA;&#x25AA;&#x25AA;&#x25AA;&#x25AA;&#x25AA;&#x25AA;&#x25AA;</td><td class='int' title='int64'>&#x25AA;&#x25AA;&#x25AA;&#x25AA;&#x25AA;&#x25AA;&#x25AA;&#x25AA;</td><td class='int' title='int64'>&#x25AA;&#x25AA;&#x25AA;&#x25AA;&#x25AA;&#x25AA;&#x25AA;&#x25AA;</td><td class='int' title='int64'>&#x25AA;&#x25AA;&#x25AA;&#x25AA;&#x25AA;&#x25AA;&#x25AA;&#x25AA;</td><td class='int' title='int64'>&#x25AA;&#x25AA;&#x25AA;&#x25AA;&#x25AA;&#x25AA;&#x25AA;&#x25AA;</td><td class='int' title='int64'>&#x25AA;&#x25AA;&#x25AA;&#x25AA;&#x25AA;&#x25AA;&#x25AA;&#x25AA;</td><td class='int' title='int64'>&#x25AA;&#x25AA;&#x25AA;&#x25AA;&#x25AA;&#x25AA;&#x25AA;&#x25AA;</td></tr>\n",
       "  </thead>\n",
       "  <tbody>\n",
       "    <tr><td class='row_index'>0</td><td>126</td><td>133</td><td>79</td><td>63</td><td>53</td><td>97</td><td>132</td><td>39</td><td>101</td><td>132</td><td>78</td><td>122</td><td>121</td><td>3</td></tr>\n",
       "  </tbody>\n",
       "  </table>\n",
       "  <div class='footer'>\n",
       "    <div class='frame_dimensions'>1 row &times; 14 columns</div>\n",
       "  </div>\n",
       "</div>\n"
      ],
      "text/plain": [
       "<Frame#7f75ffd68330 1x14>"
      ]
     },
     "execution_count": 12,
     "metadata": {},
     "output_type": "execute_result"
    }
   ],
   "source": [
    "data.nunique()"
   ]
  },
  {
   "cell_type": "markdown",
   "id": "1a9929d1",
   "metadata": {
    "papermill": {
     "duration": 0.030008,
     "end_time": "2022-01-01T05:28:05.159123",
     "exception": false,
     "start_time": "2022-01-01T05:28:05.129115",
     "status": "completed"
    },
    "tags": []
   },
   "source": [
    "**Exercise 48: Calculate the covariance between columns `alcohol` and `color_intensity` in `data`**"
   ]
  },
  {
   "cell_type": "code",
   "execution_count": 13,
   "id": "40183e09",
   "metadata": {
    "execution": {
     "iopub.execute_input": "2022-01-01T05:28:05.222164Z",
     "iopub.status.busy": "2022-01-01T05:28:05.221440Z",
     "iopub.status.idle": "2022-01-01T05:28:05.224154Z",
     "shell.execute_reply": "2022-01-01T05:28:05.224663Z",
     "shell.execute_reply.started": "2021-07-15T18:02:47.522887Z"
    },
    "papermill": {
     "duration": 0.037986,
     "end_time": "2022-01-01T05:28:05.224854",
     "exception": false,
     "start_time": "2022-01-01T05:28:05.186868",
     "status": "completed"
    },
    "tags": []
   },
   "outputs": [
    {
     "data": {
      "text/html": [
       "<div class='datatable'>\n",
       "  <table class='frame'>\n",
       "  <thead>\n",
       "    <tr class='colnames'><td class='row_index'></td><th>C0</th></tr>\n",
       "    <tr class='coltypes'><td class='row_index'></td><td class='float' title='float64'>&#x25AA;&#x25AA;&#x25AA;&#x25AA;&#x25AA;&#x25AA;&#x25AA;&#x25AA;</td></tr>\n",
       "  </thead>\n",
       "  <tbody>\n",
       "    <tr><td class='row_index'>0</td><td>1.02828</td></tr>\n",
       "  </tbody>\n",
       "  </table>\n",
       "  <div class='footer'>\n",
       "    <div class='frame_dimensions'>1 row &times; 1 column</div>\n",
       "  </div>\n",
       "</div>\n"
      ],
      "text/plain": [
       "<Frame#7f76580429c0 1x1>"
      ]
     },
     "execution_count": 13,
     "metadata": {},
     "output_type": "execute_result"
    }
   ],
   "source": [
    "data[:, dt.cov(dt.f.alcohol, dt.f.color_intensity)]"
   ]
  },
  {
   "cell_type": "markdown",
   "id": "ad48812e",
   "metadata": {
    "papermill": {
     "duration": 0.02775,
     "end_time": "2022-01-01T05:28:05.280542",
     "exception": false,
     "start_time": "2022-01-01T05:28:05.252792",
     "status": "completed"
    },
    "tags": []
   },
   "source": [
    "**Exercise 49: Calculate the correlation between columns `hue` and `color_intensity` in `data`**"
   ]
  },
  {
   "cell_type": "code",
   "execution_count": 14,
   "id": "4120ed9a",
   "metadata": {
    "execution": {
     "iopub.execute_input": "2022-01-01T05:28:05.341502Z",
     "iopub.status.busy": "2022-01-01T05:28:05.340783Z",
     "iopub.status.idle": "2022-01-01T05:28:05.345375Z",
     "shell.execute_reply": "2022-01-01T05:28:05.345965Z",
     "shell.execute_reply.started": "2021-07-15T18:02:55.436783Z"
    },
    "papermill": {
     "duration": 0.037365,
     "end_time": "2022-01-01T05:28:05.346162",
     "exception": false,
     "start_time": "2022-01-01T05:28:05.308797",
     "status": "completed"
    },
    "tags": []
   },
   "outputs": [
    {
     "data": {
      "text/html": [
       "<div class='datatable'>\n",
       "  <table class='frame'>\n",
       "  <thead>\n",
       "    <tr class='colnames'><td class='row_index'></td><th>C0</th></tr>\n",
       "    <tr class='coltypes'><td class='row_index'></td><td class='float' title='float64'>&#x25AA;&#x25AA;&#x25AA;&#x25AA;&#x25AA;&#x25AA;&#x25AA;&#x25AA;</td></tr>\n",
       "  </thead>\n",
       "  <tbody>\n",
       "    <tr><td class='row_index'>0</td><td>&minus;0.521813</td></tr>\n",
       "  </tbody>\n",
       "  </table>\n",
       "  <div class='footer'>\n",
       "    <div class='frame_dimensions'>1 row &times; 1 column</div>\n",
       "  </div>\n",
       "</div>\n"
      ],
      "text/plain": [
       "<Frame#7f7608658060 1x1>"
      ]
     },
     "execution_count": 14,
     "metadata": {},
     "output_type": "execute_result"
    }
   ],
   "source": [
    "data[:, dt.corr(dt.f.hue, dt.f.color_intensity)]"
   ]
  },
  {
   "cell_type": "markdown",
   "id": "91e70aee",
   "metadata": {
    "papermill": {
     "duration": 0.029508,
     "end_time": "2022-01-01T05:28:05.409340",
     "exception": false,
     "start_time": "2022-01-01T05:28:05.379832",
     "status": "completed"
    },
    "tags": []
   },
   "source": [
    "**Exercise 50: Calculate the correlation matrix between all pairs of columns in `data` and assign it to `corr_matrix`**"
   ]
  },
  {
   "cell_type": "code",
   "execution_count": 15,
   "id": "8305077f",
   "metadata": {
    "execution": {
     "iopub.execute_input": "2022-01-01T05:28:05.470415Z",
     "iopub.status.busy": "2022-01-01T05:28:05.469692Z",
     "iopub.status.idle": "2022-01-01T05:28:05.482335Z",
     "shell.execute_reply": "2022-01-01T05:28:05.482858Z",
     "shell.execute_reply.started": "2021-07-15T18:06:32.207309Z"
    },
    "papermill": {
     "duration": 0.04531,
     "end_time": "2022-01-01T05:28:05.483036",
     "exception": false,
     "start_time": "2022-01-01T05:28:05.437726",
     "status": "completed"
    },
    "tags": []
   },
   "outputs": [
    {
     "data": {
      "text/html": [
       "<div class='datatable'>\n",
       "  <table class='frame'>\n",
       "  <thead>\n",
       "    <tr class='colnames'><td class='row_index'></td><th>Columns</th><th>target</th><th>alcohol</th><th>malic_acid</th><th>ash</th><th>alcalinity_of_ash</th><th>magnesium</th><th>total_phenols</th><th>flavanoids</th><th>nonflavanoid_phenols</th><th>proanthocyanins</th><th>color_intensity</th><th>hue</th><th>od280/od315_of_diluted_wines</th><th>proline</th></tr>\n",
       "    <tr class='coltypes'><td class='row_index'></td><td class='str' title='str32'>&#x25AA;&#x25AA;&#x25AA;&#x25AA;</td><td class='float' title='float64'>&#x25AA;&#x25AA;&#x25AA;&#x25AA;&#x25AA;&#x25AA;&#x25AA;&#x25AA;</td><td class='float' title='float64'>&#x25AA;&#x25AA;&#x25AA;&#x25AA;&#x25AA;&#x25AA;&#x25AA;&#x25AA;</td><td class='float' title='float64'>&#x25AA;&#x25AA;&#x25AA;&#x25AA;&#x25AA;&#x25AA;&#x25AA;&#x25AA;</td><td class='float' title='float64'>&#x25AA;&#x25AA;&#x25AA;&#x25AA;&#x25AA;&#x25AA;&#x25AA;&#x25AA;</td><td class='float' title='float64'>&#x25AA;&#x25AA;&#x25AA;&#x25AA;&#x25AA;&#x25AA;&#x25AA;&#x25AA;</td><td class='float' title='float64'>&#x25AA;&#x25AA;&#x25AA;&#x25AA;&#x25AA;&#x25AA;&#x25AA;&#x25AA;</td><td class='float' title='float64'>&#x25AA;&#x25AA;&#x25AA;&#x25AA;&#x25AA;&#x25AA;&#x25AA;&#x25AA;</td><td class='float' title='float64'>&#x25AA;&#x25AA;&#x25AA;&#x25AA;&#x25AA;&#x25AA;&#x25AA;&#x25AA;</td><td class='float' title='float64'>&#x25AA;&#x25AA;&#x25AA;&#x25AA;&#x25AA;&#x25AA;&#x25AA;&#x25AA;</td><td class='float' title='float64'>&#x25AA;&#x25AA;&#x25AA;&#x25AA;&#x25AA;&#x25AA;&#x25AA;&#x25AA;</td><td class='float' title='float64'>&#x25AA;&#x25AA;&#x25AA;&#x25AA;&#x25AA;&#x25AA;&#x25AA;&#x25AA;</td><td class='float' title='float64'>&#x25AA;&#x25AA;&#x25AA;&#x25AA;&#x25AA;&#x25AA;&#x25AA;&#x25AA;</td><td class='float' title='float64'>&#x25AA;&#x25AA;&#x25AA;&#x25AA;&#x25AA;&#x25AA;&#x25AA;&#x25AA;</td><td class='float' title='float64'>&#x25AA;&#x25AA;&#x25AA;&#x25AA;&#x25AA;&#x25AA;&#x25AA;&#x25AA;</td></tr>\n",
       "  </thead>\n",
       "  <tbody>\n",
       "    <tr><td class='row_index'>0</td><td>target</td><td>1</td><td>&minus;0.328222</td><td>0.437776</td><td>&minus;0.0496432</td><td>0.517859</td><td>&minus;0.209179</td><td>&minus;0.719163</td><td>&minus;0.847498</td><td>0.489109</td><td>&minus;0.49913</td><td>0.265668</td><td>&minus;0.617369</td><td>&minus;0.78823</td><td>&minus;0.633717</td></tr>\n",
       "    <tr><td class='row_index'>1</td><td>alcohol</td><td>&minus;0.328222</td><td>1</td><td>0.0943969</td><td>0.211545</td><td>&minus;0.310235</td><td>0.270798</td><td>0.289101</td><td>0.236815</td><td>&minus;0.155929</td><td>0.136698</td><td>0.546364</td><td>&minus;0.0717472</td><td>0.0723432</td><td>0.64372</td></tr>\n",
       "    <tr><td class='row_index'>2</td><td>malic_acid</td><td>0.437776</td><td>0.0943969</td><td>1</td><td>0.164045</td><td>0.2885</td><td>&minus;0.0545751</td><td>&minus;0.335167</td><td>&minus;0.411007</td><td>0.292977</td><td>&minus;0.220746</td><td>0.248985</td><td>&minus;0.561296</td><td>&minus;0.36871</td><td>&minus;0.192011</td></tr>\n",
       "    <tr><td class='row_index'>3</td><td>ash</td><td>&minus;0.0496432</td><td>0.211545</td><td>0.164045</td><td>1</td><td>0.443367</td><td>0.286587</td><td>0.12898</td><td>0.115077</td><td>0.18623</td><td>0.00965194</td><td>0.258887</td><td>&minus;0.0746669</td><td>0.00391123</td><td>0.223626</td></tr>\n",
       "    <tr><td class='row_index'>4</td><td>alcalinity_of_ash</td><td>0.517859</td><td>&minus;0.310235</td><td>0.2885</td><td>0.443367</td><td>1</td><td>&minus;0.0833331</td><td>&minus;0.321113</td><td>&minus;0.35137</td><td>0.361922</td><td>&minus;0.197327</td><td>0.018732</td><td>&minus;0.273955</td><td>&minus;0.276769</td><td>&minus;0.440597</td></tr>\n",
       "    <tr><td class='row_index'>5</td><td>magnesium</td><td>&minus;0.209179</td><td>0.270798</td><td>&minus;0.0545751</td><td>0.286587</td><td>&minus;0.0833331</td><td>1</td><td>0.214401</td><td>0.195784</td><td>&minus;0.256294</td><td>0.236441</td><td>0.19995</td><td>0.0553982</td><td>0.0660039</td><td>0.393351</td></tr>\n",
       "    <tr><td class='row_index'>6</td><td>total_phenols</td><td>&minus;0.719163</td><td>0.289101</td><td>&minus;0.335167</td><td>0.12898</td><td>&minus;0.321113</td><td>0.214401</td><td>1</td><td>0.864564</td><td>&minus;0.449935</td><td>0.612413</td><td>&minus;0.0551364</td><td>0.433681</td><td>0.699949</td><td>0.498115</td></tr>\n",
       "    <tr><td class='row_index'>7</td><td>flavanoids</td><td>&minus;0.847498</td><td>0.236815</td><td>&minus;0.411007</td><td>0.115077</td><td>&minus;0.35137</td><td>0.195784</td><td>0.864564</td><td>1</td><td>&minus;0.5379</td><td>0.652692</td><td>&minus;0.172379</td><td>0.543479</td><td>0.787194</td><td>0.494193</td></tr>\n",
       "    <tr><td class='row_index'>8</td><td>nonflavanoid_phenols</td><td>0.489109</td><td>&minus;0.155929</td><td>0.292977</td><td>0.18623</td><td>0.361922</td><td>&minus;0.256294</td><td>&minus;0.449935</td><td>&minus;0.5379</td><td>1</td><td>&minus;0.365845</td><td>0.139057</td><td>&minus;0.26264</td><td>&minus;0.50327</td><td>&minus;0.311385</td></tr>\n",
       "    <tr><td class='row_index'>9</td><td>proanthocyanins</td><td>&minus;0.49913</td><td>0.136698</td><td>&minus;0.220746</td><td>0.00965194</td><td>&minus;0.197327</td><td>0.236441</td><td>0.612413</td><td>0.652692</td><td>&minus;0.365845</td><td>1</td><td>&minus;0.0252499</td><td>0.295544</td><td>0.519067</td><td>0.330417</td></tr>\n",
       "    <tr><td class='row_index'>10</td><td>color_intensity</td><td>0.265668</td><td>0.546364</td><td>0.248985</td><td>0.258887</td><td>0.018732</td><td>0.19995</td><td>&minus;0.0551364</td><td>&minus;0.172379</td><td>0.139057</td><td>&minus;0.0252499</td><td>1</td><td>&minus;0.521813</td><td>&minus;0.428815</td><td>0.3161</td></tr>\n",
       "    <tr><td class='row_index'>11</td><td>hue</td><td>&minus;0.617369</td><td>&minus;0.0717472</td><td>&minus;0.561296</td><td>&minus;0.0746669</td><td>&minus;0.273955</td><td>0.0553982</td><td>0.433681</td><td>0.543479</td><td>&minus;0.26264</td><td>0.295544</td><td>&minus;0.521813</td><td>1</td><td>0.565468</td><td>0.236183</td></tr>\n",
       "    <tr><td class='row_index'>12</td><td>od280/od315_of_diluted_wines</td><td>&minus;0.78823</td><td>0.0723432</td><td>&minus;0.36871</td><td>0.00391123</td><td>&minus;0.276769</td><td>0.0660039</td><td>0.699949</td><td>0.787194</td><td>&minus;0.50327</td><td>0.519067</td><td>&minus;0.428815</td><td>0.565468</td><td>1</td><td>0.312761</td></tr>\n",
       "    <tr><td class='row_index'>13</td><td>proline</td><td>&minus;0.633717</td><td>0.64372</td><td>&minus;0.192011</td><td>0.223626</td><td>&minus;0.440597</td><td>0.393351</td><td>0.498115</td><td>0.494193</td><td>&minus;0.311385</td><td>0.330417</td><td>0.3161</td><td>0.236183</td><td>0.312761</td><td>1</td></tr>\n",
       "  </tbody>\n",
       "  </table>\n",
       "  <div class='footer'>\n",
       "    <div class='frame_dimensions'>14 rows &times; 15 columns</div>\n",
       "  </div>\n",
       "</div>\n"
      ],
      "text/plain": [
       "<Frame#7f75ffd2a330 14x15>"
      ]
     },
     "execution_count": 15,
     "metadata": {},
     "output_type": "execute_result"
    }
   ],
   "source": [
    "numeric_data = data[:, [int, float]]\n",
    "numeric_ncols = numeric_data.ncols\n",
    "numeric_names = list(numeric_data.names)\n",
    "corr_matrix = dt.Frame([[None] * numeric_ncols] * (numeric_ncols + 1), names=['Columns'] + numeric_names)\n",
    "corr_matrix[:, 0] = dt.Frame(numeric_names)\n",
    "\n",
    "for i in range(numeric_data.ncols):\n",
    "    for j in range(i, numeric_data.ncols):\n",
    "        corr_matrix[i, j+1] = numeric_data[:, dt.corr(dt.f[i], dt.f[j])]\n",
    "        corr_matrix[j, i+1] = corr_matrix[i, j+1]\n",
    "\n",
    "corr_matrix"
   ]
  },
  {
   "cell_type": "markdown",
   "id": "37620e0e",
   "metadata": {
    "papermill": {
     "duration": 0.027938,
     "end_time": "2022-01-01T05:28:05.539817",
     "exception": false,
     "start_time": "2022-01-01T05:28:05.511879",
     "status": "completed"
    },
    "tags": []
   },
   "source": [
    "✅ This completes Set 5: Column Aggregations (Exercises 41-50) of **DatatableTon**: *💯 datatable exercises*\n",
    "\n",
    "#### Set 06 • Grouping Options • Intermediate • Exercises 51-60\n",
    "\n",
    "| Style | Colab | Kaggle | Binder | GitHub |\n",
    "| ----- | ----- | ------ | ------ | ------ |\n",
    "| Exercises | [![Open in Colab](https://img.shields.io/static/v1?label=&message=Open%20in%20Colab&labelColor=grey&color=blue&logo=google-colab)](https://colab.research.google.com/github/vopani/datatableton/blob/main/notebooks/06_grouping_methods_exercises.ipynb) | [![Open in Kaggle](https://img.shields.io/static/v1?label=&message=Open%20in%20Kaggle&labelColor=grey&color=blue&logo=kaggle)](https://www.kaggle.com/rohanrao/datatableton-grouping-methods-exercises) | [![Open in Binder](https://img.shields.io/static/v1?label=&message=Open%20in%20Binder&labelColor=grey&color=blue&logo=data:image/png;base64,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)](https://mybinder.org/v2/gh/vopani/datatableton/main?filepath=notebooks%2F06_grouping_methods_exercises.ipynb) | [![Open in GitHub](https://img.shields.io/static/v1?label=&message=Open%20in%20GitHub&labelColor=grey&color=blue&logo=github)](https://github.com/vopani/datatableton/blob/main/notebooks/06_grouping_methods_exercises.ipynb) |\n",
    "| Solutions | [![Open in Colab](https://img.shields.io/static/v1?label=&message=Open%20in%20Colab&labelColor=grey&color=blue&logo=google-colab)](https://colab.research.google.com/github/vopani/datatableton/blob/main/notebooks/06_grouping_methods_solutions.ipynb) | [![Open in Kaggle](https://img.shields.io/static/v1?label=&message=Open%20in%20Kaggle&labelColor=grey&color=blue&logo=kaggle)](https://www.kaggle.com/rohanrao/datatableton-grouping-methods-solutions) | [![Open in Binder](https://img.shields.io/static/v1?label=&message=Open%20in%20Binder&labelColor=grey&color=blue&logo=data:image/png;base64,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)](https://mybinder.org/v2/gh/vopani/datatableton/main?filepath=notebooks%2F06_grouping_methods_solutions.ipynb) | [![Open in GitHub](https://img.shields.io/static/v1?label=&message=Open%20in%20GitHub&labelColor=grey&color=blue&logo=github)](https://github.com/vopani/datatableton/blob/main/notebooks/06_grouping_methods_solutions.ipynb) |\n",
    "\n",
    "You can find all the exercises and solutions on [GitHub](https://github.com/vopani/datatableton#exercises-)"
   ]
  }
 ],
 "metadata": {
  "kernelspec": {
   "display_name": "Python 3",
   "language": "python",
   "name": "python3"
  },
  "language_info": {
   "codemirror_mode": {
    "name": "ipython",
    "version": 3
   },
   "file_extension": ".py",
   "mimetype": "text/x-python",
   "name": "python",
   "nbconvert_exporter": "python",
   "pygments_lexer": "ipython3",
   "version": "3.7.12"
  },
  "papermill": {
   "default_parameters": {},
   "duration": 42.372923,
   "end_time": "2022-01-01T05:28:06.582155",
   "environment_variables": {},
   "exception": null,
   "input_path": "__notebook__.ipynb",
   "output_path": "__notebook__.ipynb",
   "parameters": {},
   "start_time": "2022-01-01T05:27:24.209232",
   "version": "2.3.3"
  }
 },
 "nbformat": 4,
 "nbformat_minor": 5
}
