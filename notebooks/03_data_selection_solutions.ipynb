{
 "cells": [
  {
   "cell_type": "markdown",
   "id": "31369e28",
   "metadata": {
    "_cell_guid": "b1076dfc-b9ad-4769-8c92-a6c4dae69d19",
    "_uuid": "8f2839f25d086af736a60e9eeb907d3b93b6e0e5",
    "papermill": {
     "duration": 0.02199,
     "end_time": "2021-12-16T16:23:38.034667",
     "exception": false,
     "start_time": "2021-12-16T16:23:38.012677",
     "status": "completed"
    },
    "tags": []
   },
   "source": [
    "<center>\n",
    "    <h1>DatatableTon</h1>\n",
    "    💯 datatable exercises\n",
    "    <br>\n",
    "    <br>\n",
    "    <a href='https://github.com/vopani/datatableton/blob/master/LICENSE'>\n",
    "        <img src='https://img.shields.io/badge/license-Apache%202.0-blue.svg?logo=apache'>\n",
    "    </a>\n",
    "    <a href='https://github.com/vopani/datatableton'>\n",
    "        <img src='https://img.shields.io/github/stars/vopani/datatableton?color=yellowgreen&logo=github'>\n",
    "    </a>\n",
    "    <a href='https://twitter.com/vopani'>\n",
    "        <img src='https://img.shields.io/twitter/follow/vopani'>\n",
    "    </a>\n",
    "</center>"
   ]
  },
  {
   "cell_type": "markdown",
   "id": "68df10b5",
   "metadata": {
    "papermill": {
     "duration": 0.021237,
     "end_time": "2021-12-16T16:23:38.076670",
     "exception": false,
     "start_time": "2021-12-16T16:23:38.055433",
     "status": "completed"
    },
    "tags": []
   },
   "source": [
    "<center>\n",
    "    This is Set 3: Data Selection (Exercises 21-30) of <b>DatatableTon</b>: <i>💯 datatable exercises</i>\n",
    "    <br>\n",
    "    You can find all the exercises and solutions on <a href=\"https://github.com/vopani/datatableton#exercises-\">GitHub</a>\n",
    "</center>"
   ]
  },
  {
   "cell_type": "markdown",
   "id": "40a9042f",
   "metadata": {
    "papermill": {
     "duration": 0.019939,
     "end_time": "2021-12-16T16:23:38.117027",
     "exception": false,
     "start_time": "2021-12-16T16:23:38.097088",
     "status": "completed"
    },
    "tags": []
   },
   "source": [
    "**Prerequisites**\n",
    "* The `datatable` package should be upgraded to the latest version (or v1.0.0+).\n",
    "* The sample dataset [datatableton_sample.csv](https://github.com/vopani/datatableton/blob/main/data/datatableton_sample.csv) will be used for the exercises."
   ]
  },
  {
   "cell_type": "code",
   "execution_count": 1,
   "id": "68a5b77e",
   "metadata": {
    "_kg_hide-output": true,
    "execution": {
     "iopub.execute_input": "2021-12-16T16:23:38.173155Z",
     "iopub.status.busy": "2021-12-16T16:23:38.172119Z",
     "iopub.status.idle": "2021-12-16T16:23:58.653877Z",
     "shell.execute_reply": "2021-12-16T16:23:58.654401Z",
     "shell.execute_reply.started": "2021-12-16T16:18:54.331570Z"
    },
    "papermill": {
     "duration": 20.517521,
     "end_time": "2021-12-16T16:23:58.654773",
     "exception": false,
     "start_time": "2021-12-16T16:23:38.137252",
     "status": "completed"
    },
    "tags": []
   },
   "outputs": [
    {
     "name": "stdout",
     "output_type": "stream",
     "text": [
      "Requirement already satisfied: pip in /opt/conda/lib/python3.7/site-packages (21.3.1)\r\n",
      "\u001b[33mWARNING: Running pip as the 'root' user can result in broken permissions and conflicting behaviour with the system package manager. It is recommended to use a virtual environment instead: https://pip.pypa.io/warnings/venv\u001b[0m\r\n",
      "Requirement already satisfied: datatable in /opt/conda/lib/python3.7/site-packages (1.0.0)\r\n",
      "\u001b[33mWARNING: Running pip as the 'root' user can result in broken permissions and conflicting behaviour with the system package manager. It is recommended to use a virtual environment instead: https://pip.pypa.io/warnings/venv\u001b[0m\r\n",
      "--2021-12-16 16:23:58--  https://raw.githubusercontent.com/vopani/datatableton/main/data/datatableton_sample.csv\r\n",
      "Resolving raw.githubusercontent.com (raw.githubusercontent.com)... 185.199.109.133, 185.199.110.133, 185.199.111.133, ...\r\n",
      "Connecting to raw.githubusercontent.com (raw.githubusercontent.com)|185.199.109.133|:443... connected.\r\n",
      "HTTP request sent, awaiting response... 200 OK\r\n",
      "Length: 940 [text/plain]\r\n",
      "Saving to: ‘datatableton_sample.csv’\r\n",
      "\r\n",
      "datatableton_sample 100%[===================>]     940  --.-KB/s    in 0s      \r\n",
      "\r\n",
      "2021-12-16 16:23:58 (24.9 MB/s) - ‘datatableton_sample.csv’ saved [940/940]\r\n",
      "\r\n"
     ]
    }
   ],
   "source": [
    "!python3 -m pip install -U pip\n",
    "!python3 -m pip install -U datatable\n",
    "!wget https://raw.githubusercontent.com/vopani/datatableton/main/data/datatableton_sample.csv"
   ]
  },
  {
   "cell_type": "code",
   "execution_count": 2,
   "id": "493490c4",
   "metadata": {
    "execution": {
     "iopub.execute_input": "2021-12-16T16:23:58.707958Z",
     "iopub.status.busy": "2021-12-16T16:23:58.707251Z",
     "iopub.status.idle": "2021-12-16T16:23:58.814022Z",
     "shell.execute_reply": "2021-12-16T16:23:58.813117Z",
     "shell.execute_reply.started": "2021-12-16T16:19:18.064563Z"
    },
    "papermill": {
     "duration": 0.13485,
     "end_time": "2021-12-16T16:23:58.814185",
     "exception": false,
     "start_time": "2021-12-16T16:23:58.679335",
     "status": "completed"
    },
    "tags": []
   },
   "outputs": [
    {
     "data": {
      "text/html": [
       "<style type='text/css'>\n",
       ".datatable table.frame { margin-bottom: 0; }\n",
       ".datatable table.frame thead { border-bottom: none; }\n",
       ".datatable table.frame tr.coltypes td {  color: #FFFFFF;  line-height: 6px;  padding: 0 0.5em;}\n",
       ".datatable .bool    { background: #DDDD99; }\n",
       ".datatable .object  { background: #565656; }\n",
       ".datatable .int     { background: #5D9E5D; }\n",
       ".datatable .float   { background: #4040CC; }\n",
       ".datatable .str     { background: #CC4040; }\n",
       ".datatable .time    { background: #40CC40; }\n",
       ".datatable .row_index {  background: var(--jp-border-color3);  border-right: 1px solid var(--jp-border-color0);  color: var(--jp-ui-font-color3);  font-size: 9px;}\n",
       ".datatable .frame tbody td { text-align: left; }\n",
       ".datatable .frame tr.coltypes .row_index {  background: var(--jp-border-color0);}\n",
       ".datatable th:nth-child(2) { padding-left: 12px; }\n",
       ".datatable .hellipsis {  color: var(--jp-cell-editor-border-color);}\n",
       ".datatable .vellipsis {  background: var(--jp-layout-color0);  color: var(--jp-cell-editor-border-color);}\n",
       ".datatable .na {  color: var(--jp-cell-editor-border-color);  font-size: 80%;}\n",
       ".datatable .sp {  opacity: 0.25;}\n",
       ".datatable .footer { font-size: 9px; }\n",
       ".datatable .frame_dimensions {  background: var(--jp-border-color3);  border-top: 1px solid var(--jp-border-color0);  color: var(--jp-ui-font-color3);  display: inline-block;  opacity: 0.6;  padding: 1px 10px 1px 5px;}\n",
       ".datatable .frame thead tr.colnames {  background-image: url('data:image/png;base64,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');  background-repeat: repeat-x;  background-size: 14px;  height: 28px;}\n",
       "</style>\n"
      ],
      "text/plain": [
       "<IPython.core.display.HTML object>"
      ]
     },
     "metadata": {},
     "output_type": "display_data"
    },
    {
     "data": {
      "text/html": [
       "<div class='datatable'>\n",
       "  <table class='frame'>\n",
       "  <thead>\n",
       "    <tr class='colnames'><td class='row_index'></td><th>timestamp</th><th>user</th><th>age</th><th>product</th><th>category</th><th>price</th><th>quantity</th></tr>\n",
       "    <tr class='coltypes'><td class='row_index'></td><td class='time' title='time64'>&#x25AA;&#x25AA;&#x25AA;&#x25AA;&#x25AA;&#x25AA;&#x25AA;&#x25AA;</td><td class='str' title='str32'>&#x25AA;&#x25AA;&#x25AA;&#x25AA;</td><td class='int' title='int32'>&#x25AA;&#x25AA;&#x25AA;&#x25AA;</td><td class='str' title='str32'>&#x25AA;&#x25AA;&#x25AA;&#x25AA;</td><td class='str' title='str32'>&#x25AA;&#x25AA;&#x25AA;&#x25AA;</td><td class='float' title='float64'>&#x25AA;&#x25AA;&#x25AA;&#x25AA;&#x25AA;&#x25AA;&#x25AA;&#x25AA;</td><td class='int' title='int32'>&#x25AA;&#x25AA;&#x25AA;&#x25AA;</td></tr>\n",
       "  </thead>\n",
       "  <tbody>\n",
       "    <tr><td class='row_index'>0</td><td>2017-01-01<span class=sp>T</span>13:22:41</td><td>U1</td><td>21</td><td>Eggs</td><td>Dairy</td><td>2.3</td><td>2</td></tr>\n",
       "    <tr><td class='row_index'>1</td><td>2017-05-22<span class=sp>T</span>09:54:21</td><td>U2</td><td>41</td><td>Bread</td><td><span class=na>NA</span></td><td>0.6</td><td>2</td></tr>\n",
       "    <tr><td class='row_index'>2</td><td>2018-11-09<span class=sp>T</span>15:00:01</td><td>U3</td><td><span class=na>NA</span></td><td>Banana</td><td>Fruit</td><td>0.7</td><td>1</td></tr>\n",
       "    <tr><td class='row_index'>3</td><td>2018-12-24<span class=sp>T</span>23:03:33</td><td>U1</td><td>21</td><td>Water</td><td>Drink</td><td>0.2</td><td>1</td></tr>\n",
       "    <tr><td class='row_index'>4</td><td>2019-03-03<span class=sp>T</span>06:21:58</td><td>U4</td><td>19</td><td>Eggs</td><td>Dairy</td><td>2.3</td><td>2</td></tr>\n",
       "    <tr><td class='row_index'>5</td><td>2019-06-17<span class=sp>T</span>16:13:39</td><td>U5</td><td>25</td><td>Grapes</td><td>Fruit</td><td>1.5</td><td>1</td></tr>\n",
       "    <tr><td class='row_index'>6</td><td>2019-07-28<span class=sp>T</span>21:03:11</td><td>U5</td><td>25</td><td>Bread</td><td><span class=na>NA</span></td><td>0.6</td><td>1</td></tr>\n",
       "    <tr><td class='row_index'>7</td><td>2019-12-05<span class=sp>T</span>04:15:42</td><td>U1</td><td>21</td><td>Banana</td><td>Fruit</td><td>0.7</td><td>2</td></tr>\n",
       "    <tr><td class='row_index'>8</td><td>2020-02-02<span class=sp>T</span>03:45:34</td><td>U3</td><td><span class=na>NA</span></td><td>Banana</td><td>Fruit</td><td>0.7</td><td>1</td></tr>\n",
       "    <tr><td class='row_index'>9</td><td>2020-03-05<span class=sp>T</span>07:09:12</td><td>U4</td><td>19</td><td>Grapes</td><td>Fruit</td><td>1.5</td><td>1</td></tr>\n",
       "    <tr><td class='row_index'>10</td><td>2020-03-22<span class=sp>T</span>19:29:38</td><td>U1</td><td>21</td><td>Water</td><td>Drink</td><td>0.2</td><td>1</td></tr>\n",
       "    <tr><td class='row_index'>11</td><td>2020-03-30<span class=sp>T</span>09:44:30</td><td>U4</td><td>19</td><td>Water</td><td>Drink</td><td>0.2</td><td>1</td></tr>\n",
       "    <tr><td class='row_index'>12</td><td>2020-04-01<span class=sp>T</span>13:21:41</td><td>U1</td><td>21</td><td>Banana</td><td>Fruit</td><td>0.7</td><td>2</td></tr>\n",
       "    <tr><td class='row_index'>13</td><td>2020-07-08<span class=sp>T</span>11:45:25</td><td>U2</td><td>41</td><td>Grapes</td><td>Fruit</td><td>1.5</td><td>1</td></tr>\n",
       "    <tr><td class='row_index'>14</td><td>2020-11-19<span class=sp>T</span>18:51:22</td><td>U5</td><td>25</td><td>Water</td><td>Drink</td><td>0.2</td><td>1</td></tr>\n",
       "    <tr><td class='row_index'>15</td><td>2020-12-03<span class=sp>T</span>16:23:48</td><td>U3</td><td><span class=na>NA</span></td><td>Banana</td><td>Fruit</td><td>0.5</td><td>3</td></tr>\n",
       "    <tr><td class='row_index'>16</td><td>2021-02-03<span class=sp>T</span>01:14:40</td><td>U5</td><td>25</td><td>Eggs</td><td>Dairy</td><td>2.1</td><td>4</td></tr>\n",
       "    <tr><td class='row_index'>17</td><td>2021-05-26<span class=sp>T</span>22:42:15</td><td>U3</td><td><span class=na>NA</span></td><td>Bread</td><td><span class=na>NA</span></td><td>0.6</td><td>1</td></tr>\n",
       "    <tr><td class='row_index'>18</td><td>2021-06-14<span class=sp>T</span>15:49:28</td><td>U4</td><td>19</td><td>Eggs</td><td>Dairy</td><td>2.3</td><td>2</td></tr>\n",
       "    <tr><td class='row_index'>19</td><td>2021-07-01<span class=sp>T</span>04:37:31</td><td>U4</td><td>19</td><td>Water</td><td>Drink</td><td>0.3</td><td>1</td></tr>\n",
       "  </tbody>\n",
       "  </table>\n",
       "  <div class='footer'>\n",
       "    <div class='frame_dimensions'>20 rows &times; 7 columns</div>\n",
       "  </div>\n",
       "</div>\n"
      ],
      "text/plain": [
       "<Frame#7f95472a9f90 20x7>"
      ]
     },
     "execution_count": 2,
     "metadata": {},
     "output_type": "execute_result"
    }
   ],
   "source": [
    "import datatable as dt\n",
    "\n",
    "data = dt.fread('datatableton_sample.csv')\n",
    "data"
   ]
  },
  {
   "cell_type": "markdown",
   "id": "5c82e0c1",
   "metadata": {
    "papermill": {
     "duration": 0.024148,
     "end_time": "2021-12-16T16:23:58.862970",
     "exception": false,
     "start_time": "2021-12-16T16:23:58.838822",
     "status": "completed"
    },
    "tags": []
   },
   "source": [
    "**Exercise 21: Select the columns `user`, `product` and `quantity` from `data` and assign it to `data_upq` and select the `user` column from `data_upq` and assign it to `data_u`**"
   ]
  },
  {
   "cell_type": "code",
   "execution_count": 3,
   "id": "fd802a02",
   "metadata": {
    "execution": {
     "iopub.execute_input": "2021-12-16T16:23:58.932524Z",
     "iopub.status.busy": "2021-12-16T16:23:58.931804Z",
     "iopub.status.idle": "2021-12-16T16:23:58.936081Z",
     "shell.execute_reply": "2021-12-16T16:23:58.935439Z",
     "shell.execute_reply.started": "2021-12-16T16:19:18.164742Z"
    },
    "papermill": {
     "duration": 0.046537,
     "end_time": "2021-12-16T16:23:58.936242",
     "exception": false,
     "start_time": "2021-12-16T16:23:58.889705",
     "status": "completed"
    },
    "tags": []
   },
   "outputs": [
    {
     "data": {
      "text/html": [
       "<div class='datatable'>\n",
       "  <table class='frame'>\n",
       "  <thead>\n",
       "    <tr class='colnames'><td class='row_index'></td><th>user</th><th>product</th><th>quantity</th></tr>\n",
       "    <tr class='coltypes'><td class='row_index'></td><td class='str' title='str32'>&#x25AA;&#x25AA;&#x25AA;&#x25AA;</td><td class='str' title='str32'>&#x25AA;&#x25AA;&#x25AA;&#x25AA;</td><td class='int' title='int32'>&#x25AA;&#x25AA;&#x25AA;&#x25AA;</td></tr>\n",
       "  </thead>\n",
       "  <tbody>\n",
       "    <tr><td class='row_index'>0</td><td>U1</td><td>Eggs</td><td>2</td></tr>\n",
       "    <tr><td class='row_index'>1</td><td>U2</td><td>Bread</td><td>2</td></tr>\n",
       "    <tr><td class='row_index'>2</td><td>U3</td><td>Banana</td><td>1</td></tr>\n",
       "    <tr><td class='row_index'>3</td><td>U1</td><td>Water</td><td>1</td></tr>\n",
       "    <tr><td class='row_index'>4</td><td>U4</td><td>Eggs</td><td>2</td></tr>\n",
       "    <tr><td class='row_index'>5</td><td>U5</td><td>Grapes</td><td>1</td></tr>\n",
       "    <tr><td class='row_index'>6</td><td>U5</td><td>Bread</td><td>1</td></tr>\n",
       "    <tr><td class='row_index'>7</td><td>U1</td><td>Banana</td><td>2</td></tr>\n",
       "    <tr><td class='row_index'>8</td><td>U3</td><td>Banana</td><td>1</td></tr>\n",
       "    <tr><td class='row_index'>9</td><td>U4</td><td>Grapes</td><td>1</td></tr>\n",
       "    <tr><td class='row_index'>10</td><td>U1</td><td>Water</td><td>1</td></tr>\n",
       "    <tr><td class='row_index'>11</td><td>U4</td><td>Water</td><td>1</td></tr>\n",
       "    <tr><td class='row_index'>12</td><td>U1</td><td>Banana</td><td>2</td></tr>\n",
       "    <tr><td class='row_index'>13</td><td>U2</td><td>Grapes</td><td>1</td></tr>\n",
       "    <tr><td class='row_index'>14</td><td>U5</td><td>Water</td><td>1</td></tr>\n",
       "    <tr><td class='row_index'>15</td><td>U3</td><td>Banana</td><td>3</td></tr>\n",
       "    <tr><td class='row_index'>16</td><td>U5</td><td>Eggs</td><td>4</td></tr>\n",
       "    <tr><td class='row_index'>17</td><td>U3</td><td>Bread</td><td>1</td></tr>\n",
       "    <tr><td class='row_index'>18</td><td>U4</td><td>Eggs</td><td>2</td></tr>\n",
       "    <tr><td class='row_index'>19</td><td>U4</td><td>Water</td><td>1</td></tr>\n",
       "  </tbody>\n",
       "  </table>\n",
       "  <div class='footer'>\n",
       "    <div class='frame_dimensions'>20 rows &times; 3 columns</div>\n",
       "  </div>\n",
       "</div>\n"
      ],
      "text/plain": [
       "<Frame#7f954622f9f0 20x3>"
      ]
     },
     "execution_count": 3,
     "metadata": {},
     "output_type": "execute_result"
    }
   ],
   "source": [
    "data_upq = data[:, ['user', 'product', 'quantity']]\n",
    "data_upq"
   ]
  },
  {
   "cell_type": "code",
   "execution_count": 4,
   "id": "183a5a46",
   "metadata": {
    "execution": {
     "iopub.execute_input": "2021-12-16T16:23:58.992176Z",
     "iopub.status.busy": "2021-12-16T16:23:58.991404Z",
     "iopub.status.idle": "2021-12-16T16:23:58.997999Z",
     "shell.execute_reply": "2021-12-16T16:23:58.998660Z",
     "shell.execute_reply.started": "2021-12-16T16:19:18.174575Z"
    },
    "papermill": {
     "duration": 0.036304,
     "end_time": "2021-12-16T16:23:58.998852",
     "exception": false,
     "start_time": "2021-12-16T16:23:58.962548",
     "status": "completed"
    },
    "tags": []
   },
   "outputs": [
    {
     "data": {
      "text/html": [
       "<div class='datatable'>\n",
       "  <table class='frame'>\n",
       "  <thead>\n",
       "    <tr class='colnames'><td class='row_index'></td><th>user</th></tr>\n",
       "    <tr class='coltypes'><td class='row_index'></td><td class='str' title='str32'>&#x25AA;&#x25AA;&#x25AA;&#x25AA;</td></tr>\n",
       "  </thead>\n",
       "  <tbody>\n",
       "    <tr><td class='row_index'>0</td><td>U1</td></tr>\n",
       "    <tr><td class='row_index'>1</td><td>U2</td></tr>\n",
       "    <tr><td class='row_index'>2</td><td>U3</td></tr>\n",
       "    <tr><td class='row_index'>3</td><td>U1</td></tr>\n",
       "    <tr><td class='row_index'>4</td><td>U4</td></tr>\n",
       "    <tr><td class='row_index'>5</td><td>U5</td></tr>\n",
       "    <tr><td class='row_index'>6</td><td>U5</td></tr>\n",
       "    <tr><td class='row_index'>7</td><td>U1</td></tr>\n",
       "    <tr><td class='row_index'>8</td><td>U3</td></tr>\n",
       "    <tr><td class='row_index'>9</td><td>U4</td></tr>\n",
       "    <tr><td class='row_index'>10</td><td>U1</td></tr>\n",
       "    <tr><td class='row_index'>11</td><td>U4</td></tr>\n",
       "    <tr><td class='row_index'>12</td><td>U1</td></tr>\n",
       "    <tr><td class='row_index'>13</td><td>U2</td></tr>\n",
       "    <tr><td class='row_index'>14</td><td>U5</td></tr>\n",
       "    <tr><td class='row_index'>15</td><td>U3</td></tr>\n",
       "    <tr><td class='row_index'>16</td><td>U5</td></tr>\n",
       "    <tr><td class='row_index'>17</td><td>U3</td></tr>\n",
       "    <tr><td class='row_index'>18</td><td>U4</td></tr>\n",
       "    <tr><td class='row_index'>19</td><td>U4</td></tr>\n",
       "  </tbody>\n",
       "  </table>\n",
       "  <div class='footer'>\n",
       "    <div class='frame_dimensions'>20 rows &times; 1 column</div>\n",
       "  </div>\n",
       "</div>\n"
      ],
      "text/plain": [
       "<Frame#7f954622f9c0 20x1>"
      ]
     },
     "execution_count": 4,
     "metadata": {},
     "output_type": "execute_result"
    }
   ],
   "source": [
    "data_u = data_upq['user']\n",
    "data_u"
   ]
  },
  {
   "cell_type": "markdown",
   "id": "019c5c89",
   "metadata": {
    "papermill": {
     "duration": 0.031755,
     "end_time": "2021-12-16T16:23:59.057407",
     "exception": false,
     "start_time": "2021-12-16T16:23:59.025652",
     "status": "completed"
    },
    "tags": []
   },
   "source": [
    "**Exercise 22: Select columns 2nd to 4th using indices from `data` and assign it to `data_c234`**"
   ]
  },
  {
   "cell_type": "code",
   "execution_count": 5,
   "id": "8c30975b",
   "metadata": {
    "execution": {
     "iopub.execute_input": "2021-12-16T16:23:59.129351Z",
     "iopub.status.busy": "2021-12-16T16:23:59.128616Z",
     "iopub.status.idle": "2021-12-16T16:23:59.136538Z",
     "shell.execute_reply": "2021-12-16T16:23:59.137211Z",
     "shell.execute_reply.started": "2021-12-16T16:19:18.187899Z"
    },
    "papermill": {
     "duration": 0.047431,
     "end_time": "2021-12-16T16:23:59.137461",
     "exception": false,
     "start_time": "2021-12-16T16:23:59.090030",
     "status": "completed"
    },
    "tags": []
   },
   "outputs": [
    {
     "data": {
      "text/html": [
       "<div class='datatable'>\n",
       "  <table class='frame'>\n",
       "  <thead>\n",
       "    <tr class='colnames'><td class='row_index'></td><th>user</th><th>age</th><th>product</th></tr>\n",
       "    <tr class='coltypes'><td class='row_index'></td><td class='str' title='str32'>&#x25AA;&#x25AA;&#x25AA;&#x25AA;</td><td class='int' title='int32'>&#x25AA;&#x25AA;&#x25AA;&#x25AA;</td><td class='str' title='str32'>&#x25AA;&#x25AA;&#x25AA;&#x25AA;</td></tr>\n",
       "  </thead>\n",
       "  <tbody>\n",
       "    <tr><td class='row_index'>0</td><td>U1</td><td>21</td><td>Eggs</td></tr>\n",
       "    <tr><td class='row_index'>1</td><td>U2</td><td>41</td><td>Bread</td></tr>\n",
       "    <tr><td class='row_index'>2</td><td>U3</td><td><span class=na>NA</span></td><td>Banana</td></tr>\n",
       "    <tr><td class='row_index'>3</td><td>U1</td><td>21</td><td>Water</td></tr>\n",
       "    <tr><td class='row_index'>4</td><td>U4</td><td>19</td><td>Eggs</td></tr>\n",
       "    <tr><td class='row_index'>5</td><td>U5</td><td>25</td><td>Grapes</td></tr>\n",
       "    <tr><td class='row_index'>6</td><td>U5</td><td>25</td><td>Bread</td></tr>\n",
       "    <tr><td class='row_index'>7</td><td>U1</td><td>21</td><td>Banana</td></tr>\n",
       "    <tr><td class='row_index'>8</td><td>U3</td><td><span class=na>NA</span></td><td>Banana</td></tr>\n",
       "    <tr><td class='row_index'>9</td><td>U4</td><td>19</td><td>Grapes</td></tr>\n",
       "    <tr><td class='row_index'>10</td><td>U1</td><td>21</td><td>Water</td></tr>\n",
       "    <tr><td class='row_index'>11</td><td>U4</td><td>19</td><td>Water</td></tr>\n",
       "    <tr><td class='row_index'>12</td><td>U1</td><td>21</td><td>Banana</td></tr>\n",
       "    <tr><td class='row_index'>13</td><td>U2</td><td>41</td><td>Grapes</td></tr>\n",
       "    <tr><td class='row_index'>14</td><td>U5</td><td>25</td><td>Water</td></tr>\n",
       "    <tr><td class='row_index'>15</td><td>U3</td><td><span class=na>NA</span></td><td>Banana</td></tr>\n",
       "    <tr><td class='row_index'>16</td><td>U5</td><td>25</td><td>Eggs</td></tr>\n",
       "    <tr><td class='row_index'>17</td><td>U3</td><td><span class=na>NA</span></td><td>Bread</td></tr>\n",
       "    <tr><td class='row_index'>18</td><td>U4</td><td>19</td><td>Eggs</td></tr>\n",
       "    <tr><td class='row_index'>19</td><td>U4</td><td>19</td><td>Water</td></tr>\n",
       "  </tbody>\n",
       "  </table>\n",
       "  <div class='footer'>\n",
       "    <div class='frame_dimensions'>20 rows &times; 3 columns</div>\n",
       "  </div>\n",
       "</div>\n"
      ],
      "text/plain": [
       "<Frame#7f954622fc00 20x3>"
      ]
     },
     "execution_count": 5,
     "metadata": {},
     "output_type": "execute_result"
    }
   ],
   "source": [
    "data_c234 = data[:, 1:4]\n",
    "data_c234"
   ]
  },
  {
   "cell_type": "markdown",
   "id": "34e28e0b",
   "metadata": {
    "papermill": {
     "duration": 0.029524,
     "end_time": "2021-12-16T16:23:59.193721",
     "exception": false,
     "start_time": "2021-12-16T16:23:59.164197",
     "status": "completed"
    },
    "tags": []
   },
   "source": [
    "**Exercise 23: Select all string columns from `data` and assign it to `data_str`**"
   ]
  },
  {
   "cell_type": "code",
   "execution_count": 6,
   "id": "89c1097c",
   "metadata": {
    "execution": {
     "iopub.execute_input": "2021-12-16T16:23:59.254380Z",
     "iopub.status.busy": "2021-12-16T16:23:59.251253Z",
     "iopub.status.idle": "2021-12-16T16:23:59.259219Z",
     "shell.execute_reply": "2021-12-16T16:23:59.258360Z",
     "shell.execute_reply.started": "2021-12-16T16:19:29.969272Z"
    },
    "papermill": {
     "duration": 0.037804,
     "end_time": "2021-12-16T16:23:59.259407",
     "exception": false,
     "start_time": "2021-12-16T16:23:59.221603",
     "status": "completed"
    },
    "tags": []
   },
   "outputs": [
    {
     "data": {
      "text/html": [
       "<div class='datatable'>\n",
       "  <table class='frame'>\n",
       "  <thead>\n",
       "    <tr class='colnames'><td class='row_index'></td><th>user</th><th>product</th><th>category</th></tr>\n",
       "    <tr class='coltypes'><td class='row_index'></td><td class='str' title='str32'>&#x25AA;&#x25AA;&#x25AA;&#x25AA;</td><td class='str' title='str32'>&#x25AA;&#x25AA;&#x25AA;&#x25AA;</td><td class='str' title='str32'>&#x25AA;&#x25AA;&#x25AA;&#x25AA;</td></tr>\n",
       "  </thead>\n",
       "  <tbody>\n",
       "    <tr><td class='row_index'>0</td><td>U1</td><td>Eggs</td><td>Dairy</td></tr>\n",
       "    <tr><td class='row_index'>1</td><td>U2</td><td>Bread</td><td><span class=na>NA</span></td></tr>\n",
       "    <tr><td class='row_index'>2</td><td>U3</td><td>Banana</td><td>Fruit</td></tr>\n",
       "    <tr><td class='row_index'>3</td><td>U1</td><td>Water</td><td>Drink</td></tr>\n",
       "    <tr><td class='row_index'>4</td><td>U4</td><td>Eggs</td><td>Dairy</td></tr>\n",
       "    <tr><td class='row_index'>5</td><td>U5</td><td>Grapes</td><td>Fruit</td></tr>\n",
       "    <tr><td class='row_index'>6</td><td>U5</td><td>Bread</td><td><span class=na>NA</span></td></tr>\n",
       "    <tr><td class='row_index'>7</td><td>U1</td><td>Banana</td><td>Fruit</td></tr>\n",
       "    <tr><td class='row_index'>8</td><td>U3</td><td>Banana</td><td>Fruit</td></tr>\n",
       "    <tr><td class='row_index'>9</td><td>U4</td><td>Grapes</td><td>Fruit</td></tr>\n",
       "    <tr><td class='row_index'>10</td><td>U1</td><td>Water</td><td>Drink</td></tr>\n",
       "    <tr><td class='row_index'>11</td><td>U4</td><td>Water</td><td>Drink</td></tr>\n",
       "    <tr><td class='row_index'>12</td><td>U1</td><td>Banana</td><td>Fruit</td></tr>\n",
       "    <tr><td class='row_index'>13</td><td>U2</td><td>Grapes</td><td>Fruit</td></tr>\n",
       "    <tr><td class='row_index'>14</td><td>U5</td><td>Water</td><td>Drink</td></tr>\n",
       "    <tr><td class='row_index'>15</td><td>U3</td><td>Banana</td><td>Fruit</td></tr>\n",
       "    <tr><td class='row_index'>16</td><td>U5</td><td>Eggs</td><td>Dairy</td></tr>\n",
       "    <tr><td class='row_index'>17</td><td>U3</td><td>Bread</td><td><span class=na>NA</span></td></tr>\n",
       "    <tr><td class='row_index'>18</td><td>U4</td><td>Eggs</td><td>Dairy</td></tr>\n",
       "    <tr><td class='row_index'>19</td><td>U4</td><td>Water</td><td>Drink</td></tr>\n",
       "  </tbody>\n",
       "  </table>\n",
       "  <div class='footer'>\n",
       "    <div class='frame_dimensions'>20 rows &times; 3 columns</div>\n",
       "  </div>\n",
       "</div>\n"
      ],
      "text/plain": [
       "<Frame#7f954622fde0 20x3>"
      ]
     },
     "execution_count": 6,
     "metadata": {},
     "output_type": "execute_result"
    }
   ],
   "source": [
    "data_str = data[:, str]\n",
    "data_str"
   ]
  },
  {
   "cell_type": "markdown",
   "id": "aaac59d0",
   "metadata": {
    "papermill": {
     "duration": 0.025889,
     "end_time": "2021-12-16T16:23:59.312585",
     "exception": false,
     "start_time": "2021-12-16T16:23:59.286696",
     "status": "completed"
    },
    "tags": []
   },
   "source": [
    "**Exercise 24: Select rows 4th and 1st from `data` and assign it to `data_r41`**"
   ]
  },
  {
   "cell_type": "code",
   "execution_count": 7,
   "id": "53f4d0c1",
   "metadata": {
    "execution": {
     "iopub.execute_input": "2021-12-16T16:23:59.369768Z",
     "iopub.status.busy": "2021-12-16T16:23:59.368898Z",
     "iopub.status.idle": "2021-12-16T16:23:59.417058Z",
     "shell.execute_reply": "2021-12-16T16:23:59.416275Z",
     "shell.execute_reply.started": "2021-12-16T16:19:33.399350Z"
    },
    "papermill": {
     "duration": 0.078202,
     "end_time": "2021-12-16T16:23:59.417254",
     "exception": false,
     "start_time": "2021-12-16T16:23:59.339052",
     "status": "completed"
    },
    "tags": []
   },
   "outputs": [
    {
     "data": {
      "text/html": [
       "<div class='datatable'>\n",
       "  <table class='frame'>\n",
       "  <thead>\n",
       "    <tr class='colnames'><td class='row_index'></td><th>timestamp</th><th>user</th><th>age</th><th>product</th><th>category</th><th>price</th><th>quantity</th></tr>\n",
       "    <tr class='coltypes'><td class='row_index'></td><td class='time' title='time64'>&#x25AA;&#x25AA;&#x25AA;&#x25AA;&#x25AA;&#x25AA;&#x25AA;&#x25AA;</td><td class='str' title='str32'>&#x25AA;&#x25AA;&#x25AA;&#x25AA;</td><td class='int' title='int32'>&#x25AA;&#x25AA;&#x25AA;&#x25AA;</td><td class='str' title='str32'>&#x25AA;&#x25AA;&#x25AA;&#x25AA;</td><td class='str' title='str32'>&#x25AA;&#x25AA;&#x25AA;&#x25AA;</td><td class='float' title='float64'>&#x25AA;&#x25AA;&#x25AA;&#x25AA;&#x25AA;&#x25AA;&#x25AA;&#x25AA;</td><td class='int' title='int32'>&#x25AA;&#x25AA;&#x25AA;&#x25AA;</td></tr>\n",
       "  </thead>\n",
       "  <tbody>\n",
       "    <tr><td class='row_index'>0</td><td>2018-12-24<span class=sp>T</span>23:03:33</td><td>U1</td><td>21</td><td>Water</td><td>Drink</td><td>0.2</td><td>1</td></tr>\n",
       "    <tr><td class='row_index'>1</td><td>2017-01-01<span class=sp>T</span>13:22:41</td><td>U1</td><td>21</td><td>Eggs</td><td>Dairy</td><td>2.3</td><td>2</td></tr>\n",
       "  </tbody>\n",
       "  </table>\n",
       "  <div class='footer'>\n",
       "    <div class='frame_dimensions'>2 rows &times; 7 columns</div>\n",
       "  </div>\n",
       "</div>\n"
      ],
      "text/plain": [
       "<Frame#7f954622fe40 2x7>"
      ]
     },
     "execution_count": 7,
     "metadata": {},
     "output_type": "execute_result"
    }
   ],
   "source": [
    "data_r41 = data[[3, 0], :]\n",
    "data_r41"
   ]
  },
  {
   "cell_type": "markdown",
   "id": "ceff7846",
   "metadata": {
    "papermill": {
     "duration": 0.027211,
     "end_time": "2021-12-16T16:23:59.489891",
     "exception": false,
     "start_time": "2021-12-16T16:23:59.462680",
     "status": "completed"
    },
    "tags": []
   },
   "source": [
    "**Exercise 25: Select the element in the 4th row and 2nd column in `data` and assign it to `value_1` and select the 3rd element of `category` column in `data` and assign it to `value_2`**"
   ]
  },
  {
   "cell_type": "code",
   "execution_count": 8,
   "id": "750c6a7a",
   "metadata": {
    "execution": {
     "iopub.execute_input": "2021-12-16T16:23:59.550406Z",
     "iopub.status.busy": "2021-12-16T16:23:59.549757Z",
     "iopub.status.idle": "2021-12-16T16:23:59.552620Z",
     "shell.execute_reply": "2021-12-16T16:23:59.553439Z",
     "shell.execute_reply.started": "2021-12-16T16:23:08.565803Z"
    },
    "papermill": {
     "duration": 0.037322,
     "end_time": "2021-12-16T16:23:59.553696",
     "exception": false,
     "start_time": "2021-12-16T16:23:59.516374",
     "status": "completed"
    },
    "tags": []
   },
   "outputs": [
    {
     "data": {
      "text/plain": [
       "'U1'"
      ]
     },
     "execution_count": 8,
     "metadata": {},
     "output_type": "execute_result"
    }
   ],
   "source": [
    "value_1 = data[3, 1]\n",
    "value_1"
   ]
  },
  {
   "cell_type": "code",
   "execution_count": 9,
   "id": "d98ce80f",
   "metadata": {
    "execution": {
     "iopub.execute_input": "2021-12-16T16:23:59.613630Z",
     "iopub.status.busy": "2021-12-16T16:23:59.612599Z",
     "iopub.status.idle": "2021-12-16T16:23:59.618172Z",
     "shell.execute_reply": "2021-12-16T16:23:59.618748Z",
     "shell.execute_reply.started": "2021-09-28T05:20:26.899482Z"
    },
    "papermill": {
     "duration": 0.036946,
     "end_time": "2021-12-16T16:23:59.618929",
     "exception": false,
     "start_time": "2021-12-16T16:23:59.581983",
     "status": "completed"
    },
    "tags": []
   },
   "outputs": [
    {
     "data": {
      "text/plain": [
       "'Fruit'"
      ]
     },
     "execution_count": 9,
     "metadata": {},
     "output_type": "execute_result"
    }
   ],
   "source": [
    "value_2 = data[2, 'category']\n",
    "value_2"
   ]
  },
  {
   "cell_type": "markdown",
   "id": "933fd424",
   "metadata": {
    "papermill": {
     "duration": 0.02637,
     "end_time": "2021-12-16T16:23:59.671760",
     "exception": false,
     "start_time": "2021-12-16T16:23:59.645390",
     "status": "completed"
    },
    "tags": []
   },
   "source": [
    "**Exercise 26: Select rows from `data` where `category` is `Fruit` and assign it to `data_fruit` and select rows from `data_fruit` where `product` is `Banana` and `quantity` is more than 1 and assign it to `data_multi_banana`**"
   ]
  },
  {
   "cell_type": "code",
   "execution_count": 10,
   "id": "b168e3a3",
   "metadata": {
    "execution": {
     "iopub.execute_input": "2021-12-16T16:23:59.738856Z",
     "iopub.status.busy": "2021-12-16T16:23:59.727838Z",
     "iopub.status.idle": "2021-12-16T16:23:59.747967Z",
     "shell.execute_reply": "2021-12-16T16:23:59.747243Z",
     "shell.execute_reply.started": "2021-09-28T05:20:26.913442Z"
    },
    "papermill": {
     "duration": 0.049896,
     "end_time": "2021-12-16T16:23:59.748138",
     "exception": false,
     "start_time": "2021-12-16T16:23:59.698242",
     "status": "completed"
    },
    "tags": []
   },
   "outputs": [
    {
     "data": {
      "text/html": [
       "<div class='datatable'>\n",
       "  <table class='frame'>\n",
       "  <thead>\n",
       "    <tr class='colnames'><td class='row_index'></td><th>timestamp</th><th>user</th><th>age</th><th>product</th><th>category</th><th>price</th><th>quantity</th></tr>\n",
       "    <tr class='coltypes'><td class='row_index'></td><td class='time' title='time64'>&#x25AA;&#x25AA;&#x25AA;&#x25AA;&#x25AA;&#x25AA;&#x25AA;&#x25AA;</td><td class='str' title='str32'>&#x25AA;&#x25AA;&#x25AA;&#x25AA;</td><td class='int' title='int32'>&#x25AA;&#x25AA;&#x25AA;&#x25AA;</td><td class='str' title='str32'>&#x25AA;&#x25AA;&#x25AA;&#x25AA;</td><td class='str' title='str32'>&#x25AA;&#x25AA;&#x25AA;&#x25AA;</td><td class='float' title='float64'>&#x25AA;&#x25AA;&#x25AA;&#x25AA;&#x25AA;&#x25AA;&#x25AA;&#x25AA;</td><td class='int' title='int32'>&#x25AA;&#x25AA;&#x25AA;&#x25AA;</td></tr>\n",
       "  </thead>\n",
       "  <tbody>\n",
       "    <tr><td class='row_index'>0</td><td>2018-11-09<span class=sp>T</span>15:00:01</td><td>U3</td><td><span class=na>NA</span></td><td>Banana</td><td>Fruit</td><td>0.7</td><td>1</td></tr>\n",
       "    <tr><td class='row_index'>1</td><td>2019-06-17<span class=sp>T</span>16:13:39</td><td>U5</td><td>25</td><td>Grapes</td><td>Fruit</td><td>1.5</td><td>1</td></tr>\n",
       "    <tr><td class='row_index'>2</td><td>2019-12-05<span class=sp>T</span>04:15:42</td><td>U1</td><td>21</td><td>Banana</td><td>Fruit</td><td>0.7</td><td>2</td></tr>\n",
       "    <tr><td class='row_index'>3</td><td>2020-02-02<span class=sp>T</span>03:45:34</td><td>U3</td><td><span class=na>NA</span></td><td>Banana</td><td>Fruit</td><td>0.7</td><td>1</td></tr>\n",
       "    <tr><td class='row_index'>4</td><td>2020-03-05<span class=sp>T</span>07:09:12</td><td>U4</td><td>19</td><td>Grapes</td><td>Fruit</td><td>1.5</td><td>1</td></tr>\n",
       "    <tr><td class='row_index'>5</td><td>2020-04-01<span class=sp>T</span>13:21:41</td><td>U1</td><td>21</td><td>Banana</td><td>Fruit</td><td>0.7</td><td>2</td></tr>\n",
       "    <tr><td class='row_index'>6</td><td>2020-07-08<span class=sp>T</span>11:45:25</td><td>U2</td><td>41</td><td>Grapes</td><td>Fruit</td><td>1.5</td><td>1</td></tr>\n",
       "    <tr><td class='row_index'>7</td><td>2020-12-03<span class=sp>T</span>16:23:48</td><td>U3</td><td><span class=na>NA</span></td><td>Banana</td><td>Fruit</td><td>0.5</td><td>3</td></tr>\n",
       "  </tbody>\n",
       "  </table>\n",
       "  <div class='footer'>\n",
       "    <div class='frame_dimensions'>8 rows &times; 7 columns</div>\n",
       "  </div>\n",
       "</div>\n"
      ],
      "text/plain": [
       "<Frame#7f954622fc60 8x7>"
      ]
     },
     "execution_count": 10,
     "metadata": {},
     "output_type": "execute_result"
    }
   ],
   "source": [
    "data_fruit = data[dt.f.category == 'Fruit', :]\n",
    "data_fruit"
   ]
  },
  {
   "cell_type": "code",
   "execution_count": 11,
   "id": "e6829aac",
   "metadata": {
    "execution": {
     "iopub.execute_input": "2021-12-16T16:23:59.831886Z",
     "iopub.status.busy": "2021-12-16T16:23:59.830877Z",
     "iopub.status.idle": "2021-12-16T16:23:59.835170Z",
     "shell.execute_reply": "2021-12-16T16:23:59.832573Z",
     "shell.execute_reply.started": "2021-09-28T05:20:26.926703Z"
    },
    "papermill": {
     "duration": 0.04995,
     "end_time": "2021-12-16T16:23:59.835348",
     "exception": false,
     "start_time": "2021-12-16T16:23:59.785398",
     "status": "completed"
    },
    "tags": []
   },
   "outputs": [
    {
     "data": {
      "text/html": [
       "<div class='datatable'>\n",
       "  <table class='frame'>\n",
       "  <thead>\n",
       "    <tr class='colnames'><td class='row_index'></td><th>timestamp</th><th>user</th><th>age</th><th>product</th><th>category</th><th>price</th><th>quantity</th></tr>\n",
       "    <tr class='coltypes'><td class='row_index'></td><td class='time' title='time64'>&#x25AA;&#x25AA;&#x25AA;&#x25AA;&#x25AA;&#x25AA;&#x25AA;&#x25AA;</td><td class='str' title='str32'>&#x25AA;&#x25AA;&#x25AA;&#x25AA;</td><td class='int' title='int32'>&#x25AA;&#x25AA;&#x25AA;&#x25AA;</td><td class='str' title='str32'>&#x25AA;&#x25AA;&#x25AA;&#x25AA;</td><td class='str' title='str32'>&#x25AA;&#x25AA;&#x25AA;&#x25AA;</td><td class='float' title='float64'>&#x25AA;&#x25AA;&#x25AA;&#x25AA;&#x25AA;&#x25AA;&#x25AA;&#x25AA;</td><td class='int' title='int32'>&#x25AA;&#x25AA;&#x25AA;&#x25AA;</td></tr>\n",
       "  </thead>\n",
       "  <tbody>\n",
       "    <tr><td class='row_index'>0</td><td>2019-12-05<span class=sp>T</span>04:15:42</td><td>U1</td><td>21</td><td>Banana</td><td>Fruit</td><td>0.7</td><td>2</td></tr>\n",
       "    <tr><td class='row_index'>1</td><td>2020-04-01<span class=sp>T</span>13:21:41</td><td>U1</td><td>21</td><td>Banana</td><td>Fruit</td><td>0.7</td><td>2</td></tr>\n",
       "    <tr><td class='row_index'>2</td><td>2020-12-03<span class=sp>T</span>16:23:48</td><td>U3</td><td><span class=na>NA</span></td><td>Banana</td><td>Fruit</td><td>0.5</td><td>3</td></tr>\n",
       "  </tbody>\n",
       "  </table>\n",
       "  <div class='footer'>\n",
       "    <div class='frame_dimensions'>3 rows &times; 7 columns</div>\n",
       "  </div>\n",
       "</div>\n"
      ],
      "text/plain": [
       "<Frame#7f95462520c0 3x7>"
      ]
     },
     "execution_count": 11,
     "metadata": {},
     "output_type": "execute_result"
    }
   ],
   "source": [
    "data_multi_banana = data_fruit[(dt.f.product == 'Banana') & (dt.f.quantity > 1), :]\n",
    "data_multi_banana"
   ]
  },
  {
   "cell_type": "markdown",
   "id": "986bf5aa",
   "metadata": {
    "papermill": {
     "duration": 0.029316,
     "end_time": "2021-12-16T16:23:59.898179",
     "exception": false,
     "start_time": "2021-12-16T16:23:59.868863",
     "status": "completed"
    },
    "tags": []
   },
   "source": [
    "**Exercise 27: Select columns from `data` that have no missing values and assign it to `data_nomissing_cols`**"
   ]
  },
  {
   "cell_type": "code",
   "execution_count": 12,
   "id": "85cfe0de",
   "metadata": {
    "execution": {
     "iopub.execute_input": "2021-12-16T16:23:59.959167Z",
     "iopub.status.busy": "2021-12-16T16:23:59.958451Z",
     "iopub.status.idle": "2021-12-16T16:23:59.961284Z",
     "shell.execute_reply": "2021-12-16T16:23:59.961856Z",
     "shell.execute_reply.started": "2021-09-28T05:20:26.944696Z"
    },
    "papermill": {
     "duration": 0.036523,
     "end_time": "2021-12-16T16:23:59.962030",
     "exception": false,
     "start_time": "2021-12-16T16:23:59.925507",
     "status": "completed"
    },
    "tags": []
   },
   "outputs": [
    {
     "data": {
      "text/html": [
       "<div class='datatable'>\n",
       "  <table class='frame'>\n",
       "  <thead>\n",
       "    <tr class='colnames'><td class='row_index'></td><th>timestamp</th><th>user</th><th>product</th><th>price</th><th>quantity</th></tr>\n",
       "    <tr class='coltypes'><td class='row_index'></td><td class='time' title='time64'>&#x25AA;&#x25AA;&#x25AA;&#x25AA;&#x25AA;&#x25AA;&#x25AA;&#x25AA;</td><td class='str' title='str32'>&#x25AA;&#x25AA;&#x25AA;&#x25AA;</td><td class='str' title='str32'>&#x25AA;&#x25AA;&#x25AA;&#x25AA;</td><td class='float' title='float64'>&#x25AA;&#x25AA;&#x25AA;&#x25AA;&#x25AA;&#x25AA;&#x25AA;&#x25AA;</td><td class='int' title='int32'>&#x25AA;&#x25AA;&#x25AA;&#x25AA;</td></tr>\n",
       "  </thead>\n",
       "  <tbody>\n",
       "    <tr><td class='row_index'>0</td><td>2017-01-01<span class=sp>T</span>13:22:41</td><td>U1</td><td>Eggs</td><td>2.3</td><td>2</td></tr>\n",
       "    <tr><td class='row_index'>1</td><td>2017-05-22<span class=sp>T</span>09:54:21</td><td>U2</td><td>Bread</td><td>0.6</td><td>2</td></tr>\n",
       "    <tr><td class='row_index'>2</td><td>2018-11-09<span class=sp>T</span>15:00:01</td><td>U3</td><td>Banana</td><td>0.7</td><td>1</td></tr>\n",
       "    <tr><td class='row_index'>3</td><td>2018-12-24<span class=sp>T</span>23:03:33</td><td>U1</td><td>Water</td><td>0.2</td><td>1</td></tr>\n",
       "    <tr><td class='row_index'>4</td><td>2019-03-03<span class=sp>T</span>06:21:58</td><td>U4</td><td>Eggs</td><td>2.3</td><td>2</td></tr>\n",
       "    <tr><td class='row_index'>5</td><td>2019-06-17<span class=sp>T</span>16:13:39</td><td>U5</td><td>Grapes</td><td>1.5</td><td>1</td></tr>\n",
       "    <tr><td class='row_index'>6</td><td>2019-07-28<span class=sp>T</span>21:03:11</td><td>U5</td><td>Bread</td><td>0.6</td><td>1</td></tr>\n",
       "    <tr><td class='row_index'>7</td><td>2019-12-05<span class=sp>T</span>04:15:42</td><td>U1</td><td>Banana</td><td>0.7</td><td>2</td></tr>\n",
       "    <tr><td class='row_index'>8</td><td>2020-02-02<span class=sp>T</span>03:45:34</td><td>U3</td><td>Banana</td><td>0.7</td><td>1</td></tr>\n",
       "    <tr><td class='row_index'>9</td><td>2020-03-05<span class=sp>T</span>07:09:12</td><td>U4</td><td>Grapes</td><td>1.5</td><td>1</td></tr>\n",
       "    <tr><td class='row_index'>10</td><td>2020-03-22<span class=sp>T</span>19:29:38</td><td>U1</td><td>Water</td><td>0.2</td><td>1</td></tr>\n",
       "    <tr><td class='row_index'>11</td><td>2020-03-30<span class=sp>T</span>09:44:30</td><td>U4</td><td>Water</td><td>0.2</td><td>1</td></tr>\n",
       "    <tr><td class='row_index'>12</td><td>2020-04-01<span class=sp>T</span>13:21:41</td><td>U1</td><td>Banana</td><td>0.7</td><td>2</td></tr>\n",
       "    <tr><td class='row_index'>13</td><td>2020-07-08<span class=sp>T</span>11:45:25</td><td>U2</td><td>Grapes</td><td>1.5</td><td>1</td></tr>\n",
       "    <tr><td class='row_index'>14</td><td>2020-11-19<span class=sp>T</span>18:51:22</td><td>U5</td><td>Water</td><td>0.2</td><td>1</td></tr>\n",
       "    <tr><td class='row_index'>15</td><td>2020-12-03<span class=sp>T</span>16:23:48</td><td>U3</td><td>Banana</td><td>0.5</td><td>3</td></tr>\n",
       "    <tr><td class='row_index'>16</td><td>2021-02-03<span class=sp>T</span>01:14:40</td><td>U5</td><td>Eggs</td><td>2.1</td><td>4</td></tr>\n",
       "    <tr><td class='row_index'>17</td><td>2021-05-26<span class=sp>T</span>22:42:15</td><td>U3</td><td>Bread</td><td>0.6</td><td>1</td></tr>\n",
       "    <tr><td class='row_index'>18</td><td>2021-06-14<span class=sp>T</span>15:49:28</td><td>U4</td><td>Eggs</td><td>2.3</td><td>2</td></tr>\n",
       "    <tr><td class='row_index'>19</td><td>2021-07-01<span class=sp>T</span>04:37:31</td><td>U4</td><td>Water</td><td>0.3</td><td>1</td></tr>\n",
       "  </tbody>\n",
       "  </table>\n",
       "  <div class='footer'>\n",
       "    <div class='frame_dimensions'>20 rows &times; 5 columns</div>\n",
       "  </div>\n",
       "</div>\n"
      ],
      "text/plain": [
       "<Frame#7f9546252450 20x5>"
      ]
     },
     "execution_count": 12,
     "metadata": {},
     "output_type": "execute_result"
    }
   ],
   "source": [
    "data_nomissing_cols = data[:, [column.countna1() == 0 for column in data]]\n",
    "data_nomissing_cols"
   ]
  },
  {
   "cell_type": "markdown",
   "id": "cc31279b",
   "metadata": {
    "papermill": {
     "duration": 0.029711,
     "end_time": "2021-12-16T16:24:00.020726",
     "exception": false,
     "start_time": "2021-12-16T16:23:59.991015",
     "status": "completed"
    },
    "tags": []
   },
   "source": [
    "**Exercise 28: Select rows from `data` that have no missing values and assign it to `data_nomissing_rows`**"
   ]
  },
  {
   "cell_type": "code",
   "execution_count": 13,
   "id": "ace7f748",
   "metadata": {
    "execution": {
     "iopub.execute_input": "2021-12-16T16:24:00.096964Z",
     "iopub.status.busy": "2021-12-16T16:24:00.086137Z",
     "iopub.status.idle": "2021-12-16T16:24:00.122073Z",
     "shell.execute_reply": "2021-12-16T16:24:00.124792Z",
     "shell.execute_reply.started": "2021-09-28T05:20:26.958393Z"
    },
    "papermill": {
     "duration": 0.072931,
     "end_time": "2021-12-16T16:24:00.125035",
     "exception": false,
     "start_time": "2021-12-16T16:24:00.052104",
     "status": "completed"
    },
    "tags": []
   },
   "outputs": [
    {
     "data": {
      "text/html": [
       "<div class='datatable'>\n",
       "  <table class='frame'>\n",
       "  <thead>\n",
       "    <tr class='colnames'><td class='row_index'></td><th>timestamp</th><th>user</th><th>age</th><th>product</th><th>category</th><th>price</th><th>quantity</th></tr>\n",
       "    <tr class='coltypes'><td class='row_index'></td><td class='time' title='time64'>&#x25AA;&#x25AA;&#x25AA;&#x25AA;&#x25AA;&#x25AA;&#x25AA;&#x25AA;</td><td class='str' title='str32'>&#x25AA;&#x25AA;&#x25AA;&#x25AA;</td><td class='int' title='int32'>&#x25AA;&#x25AA;&#x25AA;&#x25AA;</td><td class='str' title='str32'>&#x25AA;&#x25AA;&#x25AA;&#x25AA;</td><td class='str' title='str32'>&#x25AA;&#x25AA;&#x25AA;&#x25AA;</td><td class='float' title='float64'>&#x25AA;&#x25AA;&#x25AA;&#x25AA;&#x25AA;&#x25AA;&#x25AA;&#x25AA;</td><td class='int' title='int32'>&#x25AA;&#x25AA;&#x25AA;&#x25AA;</td></tr>\n",
       "  </thead>\n",
       "  <tbody>\n",
       "    <tr><td class='row_index'>0</td><td>2017-01-01<span class=sp>T</span>13:22:41</td><td>U1</td><td>21</td><td>Eggs</td><td>Dairy</td><td>2.3</td><td>2</td></tr>\n",
       "    <tr><td class='row_index'>1</td><td>2018-12-24<span class=sp>T</span>23:03:33</td><td>U1</td><td>21</td><td>Water</td><td>Drink</td><td>0.2</td><td>1</td></tr>\n",
       "    <tr><td class='row_index'>2</td><td>2019-03-03<span class=sp>T</span>06:21:58</td><td>U4</td><td>19</td><td>Eggs</td><td>Dairy</td><td>2.3</td><td>2</td></tr>\n",
       "    <tr><td class='row_index'>3</td><td>2019-06-17<span class=sp>T</span>16:13:39</td><td>U5</td><td>25</td><td>Grapes</td><td>Fruit</td><td>1.5</td><td>1</td></tr>\n",
       "    <tr><td class='row_index'>4</td><td>2019-12-05<span class=sp>T</span>04:15:42</td><td>U1</td><td>21</td><td>Banana</td><td>Fruit</td><td>0.7</td><td>2</td></tr>\n",
       "    <tr><td class='row_index'>5</td><td>2020-03-05<span class=sp>T</span>07:09:12</td><td>U4</td><td>19</td><td>Grapes</td><td>Fruit</td><td>1.5</td><td>1</td></tr>\n",
       "    <tr><td class='row_index'>6</td><td>2020-03-22<span class=sp>T</span>19:29:38</td><td>U1</td><td>21</td><td>Water</td><td>Drink</td><td>0.2</td><td>1</td></tr>\n",
       "    <tr><td class='row_index'>7</td><td>2020-03-30<span class=sp>T</span>09:44:30</td><td>U4</td><td>19</td><td>Water</td><td>Drink</td><td>0.2</td><td>1</td></tr>\n",
       "    <tr><td class='row_index'>8</td><td>2020-04-01<span class=sp>T</span>13:21:41</td><td>U1</td><td>21</td><td>Banana</td><td>Fruit</td><td>0.7</td><td>2</td></tr>\n",
       "    <tr><td class='row_index'>9</td><td>2020-07-08<span class=sp>T</span>11:45:25</td><td>U2</td><td>41</td><td>Grapes</td><td>Fruit</td><td>1.5</td><td>1</td></tr>\n",
       "    <tr><td class='row_index'>10</td><td>2020-11-19<span class=sp>T</span>18:51:22</td><td>U5</td><td>25</td><td>Water</td><td>Drink</td><td>0.2</td><td>1</td></tr>\n",
       "    <tr><td class='row_index'>11</td><td>2021-02-03<span class=sp>T</span>01:14:40</td><td>U5</td><td>25</td><td>Eggs</td><td>Dairy</td><td>2.1</td><td>4</td></tr>\n",
       "    <tr><td class='row_index'>12</td><td>2021-06-14<span class=sp>T</span>15:49:28</td><td>U4</td><td>19</td><td>Eggs</td><td>Dairy</td><td>2.3</td><td>2</td></tr>\n",
       "    <tr><td class='row_index'>13</td><td>2021-07-01<span class=sp>T</span>04:37:31</td><td>U4</td><td>19</td><td>Water</td><td>Drink</td><td>0.3</td><td>1</td></tr>\n",
       "  </tbody>\n",
       "  </table>\n",
       "  <div class='footer'>\n",
       "    <div class='frame_dimensions'>14 rows &times; 7 columns</div>\n",
       "  </div>\n",
       "</div>\n"
      ],
      "text/plain": [
       "<Frame#7f9546252570 14x7>"
      ]
     },
     "execution_count": 13,
     "metadata": {},
     "output_type": "execute_result"
    }
   ],
   "source": [
    "data_nomissing_rows = data[dt.rowcount(dt.f[:]) == data.ncols, :]\n",
    "data_nomissing_rows"
   ]
  },
  {
   "cell_type": "markdown",
   "id": "fbd4ae3a",
   "metadata": {
    "papermill": {
     "duration": 0.030762,
     "end_time": "2021-12-16T16:24:00.194869",
     "exception": false,
     "start_time": "2021-12-16T16:24:00.164107",
     "status": "completed"
    },
    "tags": []
   },
   "source": [
    "**Exercise 29: Select unique rows from `data` and assign it to `data_unique` and select unique `product` from `data_unique` and assign it to `product_unique`**"
   ]
  },
  {
   "cell_type": "code",
   "execution_count": 14,
   "id": "8f8980a8",
   "metadata": {
    "execution": {
     "iopub.execute_input": "2021-12-16T16:24:00.266649Z",
     "iopub.status.busy": "2021-12-16T16:24:00.265803Z",
     "iopub.status.idle": "2021-12-16T16:24:00.270899Z",
     "shell.execute_reply": "2021-12-16T16:24:00.271429Z",
     "shell.execute_reply.started": "2021-09-28T05:20:26.973296Z"
    },
    "papermill": {
     "duration": 0.045531,
     "end_time": "2021-12-16T16:24:00.271661",
     "exception": false,
     "start_time": "2021-12-16T16:24:00.226130",
     "status": "completed"
    },
    "tags": []
   },
   "outputs": [
    {
     "data": {
      "text/html": [
       "<div class='datatable'>\n",
       "  <table class='frame'>\n",
       "  <thead>\n",
       "    <tr class='colnames'><td class='row_index'></td><th>timestamp</th><th>user</th><th>age</th><th>product</th><th>category</th><th>price</th><th>quantity</th></tr>\n",
       "    <tr class='coltypes'><td class='row_index'></td><td class='time' title='time64'>&#x25AA;&#x25AA;&#x25AA;&#x25AA;&#x25AA;&#x25AA;&#x25AA;&#x25AA;</td><td class='str' title='str32'>&#x25AA;&#x25AA;&#x25AA;&#x25AA;</td><td class='int' title='int32'>&#x25AA;&#x25AA;&#x25AA;&#x25AA;</td><td class='str' title='str32'>&#x25AA;&#x25AA;&#x25AA;&#x25AA;</td><td class='str' title='str32'>&#x25AA;&#x25AA;&#x25AA;&#x25AA;</td><td class='float' title='float64'>&#x25AA;&#x25AA;&#x25AA;&#x25AA;&#x25AA;&#x25AA;&#x25AA;&#x25AA;</td><td class='int' title='int32'>&#x25AA;&#x25AA;&#x25AA;&#x25AA;</td></tr>\n",
       "  </thead>\n",
       "  <tbody>\n",
       "    <tr><td class='row_index'>0</td><td>2017-01-01<span class=sp>T</span>13:22:41</td><td>U1</td><td>21</td><td>Eggs</td><td>Dairy</td><td>2.3</td><td>2</td></tr>\n",
       "    <tr><td class='row_index'>1</td><td>2017-05-22<span class=sp>T</span>09:54:21</td><td>U2</td><td>41</td><td>Bread</td><td><span class=na>NA</span></td><td>0.6</td><td>2</td></tr>\n",
       "    <tr><td class='row_index'>2</td><td>2018-11-09<span class=sp>T</span>15:00:01</td><td>U3</td><td><span class=na>NA</span></td><td>Banana</td><td>Fruit</td><td>0.7</td><td>1</td></tr>\n",
       "    <tr><td class='row_index'>3</td><td>2018-12-24<span class=sp>T</span>23:03:33</td><td>U1</td><td>21</td><td>Water</td><td>Drink</td><td>0.2</td><td>1</td></tr>\n",
       "    <tr><td class='row_index'>4</td><td>2019-03-03<span class=sp>T</span>06:21:58</td><td>U4</td><td>19</td><td>Eggs</td><td>Dairy</td><td>2.3</td><td>2</td></tr>\n",
       "    <tr><td class='row_index'>5</td><td>2019-06-17<span class=sp>T</span>16:13:39</td><td>U5</td><td>25</td><td>Grapes</td><td>Fruit</td><td>1.5</td><td>1</td></tr>\n",
       "    <tr><td class='row_index'>6</td><td>2019-07-28<span class=sp>T</span>21:03:11</td><td>U5</td><td>25</td><td>Bread</td><td><span class=na>NA</span></td><td>0.6</td><td>1</td></tr>\n",
       "    <tr><td class='row_index'>7</td><td>2019-12-05<span class=sp>T</span>04:15:42</td><td>U1</td><td>21</td><td>Banana</td><td>Fruit</td><td>0.7</td><td>2</td></tr>\n",
       "    <tr><td class='row_index'>8</td><td>2020-02-02<span class=sp>T</span>03:45:34</td><td>U3</td><td><span class=na>NA</span></td><td>Banana</td><td>Fruit</td><td>0.7</td><td>1</td></tr>\n",
       "    <tr><td class='row_index'>9</td><td>2020-03-05<span class=sp>T</span>07:09:12</td><td>U4</td><td>19</td><td>Grapes</td><td>Fruit</td><td>1.5</td><td>1</td></tr>\n",
       "    <tr><td class='row_index'>10</td><td>2020-03-22<span class=sp>T</span>19:29:38</td><td>U1</td><td>21</td><td>Water</td><td>Drink</td><td>0.2</td><td>1</td></tr>\n",
       "    <tr><td class='row_index'>11</td><td>2020-03-30<span class=sp>T</span>09:44:30</td><td>U4</td><td>19</td><td>Water</td><td>Drink</td><td>0.2</td><td>1</td></tr>\n",
       "    <tr><td class='row_index'>12</td><td>2020-04-01<span class=sp>T</span>13:21:41</td><td>U1</td><td>21</td><td>Banana</td><td>Fruit</td><td>0.7</td><td>2</td></tr>\n",
       "    <tr><td class='row_index'>13</td><td>2020-07-08<span class=sp>T</span>11:45:25</td><td>U2</td><td>41</td><td>Grapes</td><td>Fruit</td><td>1.5</td><td>1</td></tr>\n",
       "    <tr><td class='row_index'>14</td><td>2020-11-19<span class=sp>T</span>18:51:22</td><td>U5</td><td>25</td><td>Water</td><td>Drink</td><td>0.2</td><td>1</td></tr>\n",
       "    <tr><td class='row_index'>15</td><td>2020-12-03<span class=sp>T</span>16:23:48</td><td>U3</td><td><span class=na>NA</span></td><td>Banana</td><td>Fruit</td><td>0.5</td><td>3</td></tr>\n",
       "    <tr><td class='row_index'>16</td><td>2021-02-03<span class=sp>T</span>01:14:40</td><td>U5</td><td>25</td><td>Eggs</td><td>Dairy</td><td>2.1</td><td>4</td></tr>\n",
       "    <tr><td class='row_index'>17</td><td>2021-05-26<span class=sp>T</span>22:42:15</td><td>U3</td><td><span class=na>NA</span></td><td>Bread</td><td><span class=na>NA</span></td><td>0.6</td><td>1</td></tr>\n",
       "    <tr><td class='row_index'>18</td><td>2021-06-14<span class=sp>T</span>15:49:28</td><td>U4</td><td>19</td><td>Eggs</td><td>Dairy</td><td>2.3</td><td>2</td></tr>\n",
       "    <tr><td class='row_index'>19</td><td>2021-07-01<span class=sp>T</span>04:37:31</td><td>U4</td><td>19</td><td>Water</td><td>Drink</td><td>0.3</td><td>1</td></tr>\n",
       "  </tbody>\n",
       "  </table>\n",
       "  <div class='footer'>\n",
       "    <div class='frame_dimensions'>20 rows &times; 7 columns</div>\n",
       "  </div>\n",
       "</div>\n"
      ],
      "text/plain": [
       "<Frame#7f95462527b0 20x7>"
      ]
     },
     "execution_count": 14,
     "metadata": {},
     "output_type": "execute_result"
    }
   ],
   "source": [
    "data_unique = data[:1, :, dt.by(*data.names)]\n",
    "data_unique"
   ]
  },
  {
   "cell_type": "code",
   "execution_count": 15,
   "id": "f935bb2e",
   "metadata": {
    "execution": {
     "iopub.execute_input": "2021-12-16T16:24:00.349235Z",
     "iopub.status.busy": "2021-12-16T16:24:00.348023Z",
     "iopub.status.idle": "2021-12-16T16:24:00.352121Z",
     "shell.execute_reply": "2021-12-16T16:24:00.349946Z",
     "shell.execute_reply.started": "2021-09-28T05:20:26.984547Z"
    },
    "papermill": {
     "duration": 0.045305,
     "end_time": "2021-12-16T16:24:00.352305",
     "exception": false,
     "start_time": "2021-12-16T16:24:00.307000",
     "status": "completed"
    },
    "tags": []
   },
   "outputs": [
    {
     "data": {
      "text/html": [
       "<div class='datatable'>\n",
       "  <table class='frame'>\n",
       "  <thead>\n",
       "    <tr class='colnames'><td class='row_index'></td><th>product</th></tr>\n",
       "    <tr class='coltypes'><td class='row_index'></td><td class='str' title='str32'>&#x25AA;&#x25AA;&#x25AA;&#x25AA;</td></tr>\n",
       "  </thead>\n",
       "  <tbody>\n",
       "    <tr><td class='row_index'>0</td><td>Banana</td></tr>\n",
       "    <tr><td class='row_index'>1</td><td>Bread</td></tr>\n",
       "    <tr><td class='row_index'>2</td><td>Eggs</td></tr>\n",
       "    <tr><td class='row_index'>3</td><td>Grapes</td></tr>\n",
       "    <tr><td class='row_index'>4</td><td>Water</td></tr>\n",
       "  </tbody>\n",
       "  </table>\n",
       "  <div class='footer'>\n",
       "    <div class='frame_dimensions'>5 rows &times; 1 column</div>\n",
       "  </div>\n",
       "</div>\n"
      ],
      "text/plain": [
       "<Frame#7f9546252270 5x1>"
      ]
     },
     "execution_count": 15,
     "metadata": {},
     "output_type": "execute_result"
    }
   ],
   "source": [
    "product_unique = dt.unique(data_unique['product'])\n",
    "product_unique"
   ]
  },
  {
   "cell_type": "markdown",
   "id": "3fb5905d",
   "metadata": {
    "papermill": {
     "duration": 0.031893,
     "end_time": "2021-12-16T16:24:00.426760",
     "exception": false,
     "start_time": "2021-12-16T16:24:00.394867",
     "status": "completed"
    },
    "tags": []
   },
   "source": [
    "**Exercise 30: Select first row of each user from `data` and assign it to `data_first`**"
   ]
  },
  {
   "cell_type": "code",
   "execution_count": 16,
   "id": "25bf57ea",
   "metadata": {
    "execution": {
     "iopub.execute_input": "2021-12-16T16:24:00.498306Z",
     "iopub.status.busy": "2021-12-16T16:24:00.496747Z",
     "iopub.status.idle": "2021-12-16T16:24:00.500497Z",
     "shell.execute_reply": "2021-12-16T16:24:00.497489Z",
     "shell.execute_reply.started": "2021-09-28T05:20:26.997772Z"
    },
    "papermill": {
     "duration": 0.044422,
     "end_time": "2021-12-16T16:24:00.500689",
     "exception": false,
     "start_time": "2021-12-16T16:24:00.456267",
     "status": "completed"
    },
    "tags": []
   },
   "outputs": [
    {
     "data": {
      "text/html": [
       "<div class='datatable'>\n",
       "  <table class='frame'>\n",
       "  <thead>\n",
       "    <tr class='colnames'><td class='row_index'></td><th>user</th><th>timestamp</th><th>age</th><th>product</th><th>category</th><th>price</th><th>quantity</th></tr>\n",
       "    <tr class='coltypes'><td class='row_index'></td><td class='str' title='str32'>&#x25AA;&#x25AA;&#x25AA;&#x25AA;</td><td class='time' title='time64'>&#x25AA;&#x25AA;&#x25AA;&#x25AA;&#x25AA;&#x25AA;&#x25AA;&#x25AA;</td><td class='int' title='int32'>&#x25AA;&#x25AA;&#x25AA;&#x25AA;</td><td class='str' title='str32'>&#x25AA;&#x25AA;&#x25AA;&#x25AA;</td><td class='str' title='str32'>&#x25AA;&#x25AA;&#x25AA;&#x25AA;</td><td class='float' title='float64'>&#x25AA;&#x25AA;&#x25AA;&#x25AA;&#x25AA;&#x25AA;&#x25AA;&#x25AA;</td><td class='int' title='int32'>&#x25AA;&#x25AA;&#x25AA;&#x25AA;</td></tr>\n",
       "  </thead>\n",
       "  <tbody>\n",
       "    <tr><td class='row_index'>0</td><td>U1</td><td>2017-01-01<span class=sp>T</span>13:22:41</td><td>21</td><td>Eggs</td><td>Dairy</td><td>2.3</td><td>2</td></tr>\n",
       "    <tr><td class='row_index'>1</td><td>U2</td><td>2017-05-22<span class=sp>T</span>09:54:21</td><td>41</td><td>Bread</td><td><span class=na>NA</span></td><td>0.6</td><td>2</td></tr>\n",
       "    <tr><td class='row_index'>2</td><td>U3</td><td>2018-11-09<span class=sp>T</span>15:00:01</td><td><span class=na>NA</span></td><td>Banana</td><td>Fruit</td><td>0.7</td><td>1</td></tr>\n",
       "    <tr><td class='row_index'>3</td><td>U4</td><td>2019-03-03<span class=sp>T</span>06:21:58</td><td>19</td><td>Eggs</td><td>Dairy</td><td>2.3</td><td>2</td></tr>\n",
       "    <tr><td class='row_index'>4</td><td>U5</td><td>2019-06-17<span class=sp>T</span>16:13:39</td><td>25</td><td>Grapes</td><td>Fruit</td><td>1.5</td><td>1</td></tr>\n",
       "  </tbody>\n",
       "  </table>\n",
       "  <div class='footer'>\n",
       "    <div class='frame_dimensions'>5 rows &times; 7 columns</div>\n",
       "  </div>\n",
       "</div>\n"
      ],
      "text/plain": [
       "<Frame#7f9546252840 5x7>"
      ]
     },
     "execution_count": 16,
     "metadata": {},
     "output_type": "execute_result"
    }
   ],
   "source": [
    "data_first = data[:1, :, dt.by(dt.f.user)]\n",
    "data_first"
   ]
  },
  {
   "cell_type": "markdown",
   "id": "b5c8cfbe",
   "metadata": {
    "papermill": {
     "duration": 0.035187,
     "end_time": "2021-12-16T16:24:00.571900",
     "exception": false,
     "start_time": "2021-12-16T16:24:00.536713",
     "status": "completed"
    },
    "tags": []
   },
   "source": [
    "✅ This completes Set 3: Data Selection (Exercises 21-30) of **DatatableTon**: *💯 datatable exercises*\n",
    "\n",
    "#### Set 04 • Frame Operations • Beginner • Exercises 31-40\n",
    "\n",
    "| Style | Colab | Kaggle | Binder | GitHub |\n",
    "| ----- | ----- | ------ | ------ | ------ |\n",
    "| Exercises | [![Open in Colab](https://img.shields.io/static/v1?label=&message=Open%20in%20Colab&labelColor=grey&color=blue&logo=google-colab)](https://colab.research.google.com/github/vopani/datatableton/blob/main/notebooks/04_frame_operations_exercises.ipynb) | [![Open in Kaggle](https://img.shields.io/static/v1?label=&message=Open%20in%20Kaggle&labelColor=grey&color=blue&logo=kaggle)](https://www.kaggle.com/rohanrao/datatableton-frame-operations-exercises) | [![Open in Binder](https://img.shields.io/static/v1?label=&message=Open%20in%20Binder&labelColor=grey&color=blue&logo=data:image/png;base64,iVBORw0KGgoAAAANSUhEUgAAAFkAAABZCAMAAABi1XidAAAB8lBMVEX///9XmsrmZYH1olJXmsr1olJXmsrmZYH1olJXmsr1olJXmsrmZYH1olL1olJXmsr1olJXmsrmZYH1olL1olJXmsrmZYH1olJXmsr1olL1olJXmsrmZYH1olL1olJXmsrmZYH1olL1olL0nFf1olJXmsrmZYH1olJXmsq8dZb1olJXmsrmZYH1olJXmspXmspXmsr1olL1olJXmsrmZYH1olJXmsr1olL1olJXmsrmZYH1olL1olLeaIVXmsrmZYH1olL1olL1olJXmsrmZYH1olLna31Xmsr1olJXmsr1olJXmsrmZYH1olLqoVr1olJXmsr1olJXmsrmZYH1olL1olKkfaPobXvviGabgadXmsqThKuofKHmZ4Dobnr1olJXmsr1olJXmspXmsr1olJXmsrfZ4TuhWn1olL1olJXmsqBi7X1olJXmspZmslbmMhbmsdemsVfl8ZgmsNim8Jpk8F0m7R4m7F5nLB6jbh7jbiDirOEibOGnKaMhq+PnaCVg6qWg6qegKaff6WhnpKofKGtnomxeZy3noG6dZi+n3vCcpPDcpPGn3bLb4/Mb47UbIrVa4rYoGjdaIbeaIXhoWHmZYHobXvpcHjqdHXreHLroVrsfG/uhGnuh2bwj2Hxk17yl1vzmljzm1j0nlX1olL3AJXWAAAAbXRSTlMAEBAQHx8gICAuLjAwMDw9PUBAQEpQUFBXV1hgYGBkcHBwcXl8gICAgoiIkJCQlJicnJ2goKCmqK+wsLC4usDAwMjP0NDQ1NbW3Nzg4ODi5+3v8PDw8/T09PX29vb39/f5+fr7+/z8/Pz9/v7+zczCxgAABC5JREFUeAHN1ul3k0UUBvCb1CTVpmpaitAGSLSpSuKCLWpbTKNJFGlcSMAFF63iUmRccNG6gLbuxkXU66JAUef/9LSpmXnyLr3T5AO/rzl5zj137p136BISy44fKJXuGN/d19PUfYeO67Znqtf2KH33Id1psXoFdW30sPZ1sMvs2D060AHqws4FHeJojLZqnw53cmfvg+XR8mC0OEjuxrXEkX5ydeVJLVIlV0e10PXk5k7dYeHu7Cj1j+49uKg7uLU61tGLw1lq27ugQYlclHC4bgv7VQ+TAyj5Zc/UjsPvs1sd5cWryWObtvWT2EPa4rtnWW3JkpjggEpbOsPr7F7EyNewtpBIslA7p43HCsnwooXTEc3UmPmCNn5lrqTJxy6nRmcavGZVt/3Da2pD5NHvsOHJCrdc1G2r3DITpU7yic7w/7Rxnjc0kt5GC4djiv2Sz3Fb2iEZg41/ddsFDoyuYrIkmFehz0HR2thPgQqMyQYb2OtB0WxsZ3BeG3+wpRb1vzl2UYBog8FfGhttFKjtAclnZYrRo9ryG9uG/FZQU4AEg8ZE9LjGMzTmqKXPLnlWVnIlQQTvxJf8ip7VgjZjyVPrjw1te5otM7RmP7xm+sK2Gv9I8Gi++BRbEkR9EBw8zRUcKxwp73xkaLiqQb+kGduJTNHG72zcW9LoJgqQxpP3/Tj//c3yB0tqzaml05/+orHLksVO+95kX7/7qgJvnjlrfr2Ggsyx0eoy9uPzN5SPd86aXggOsEKW2Prz7du3VID3/tzs/sSRs2w7ovVHKtjrX2pd7ZMlTxAYfBAL9jiDwfLkq55Tm7ifhMlTGPyCAs7RFRhn47JnlcB9RM5T97ASuZXIcVNuUDIndpDbdsfrqsOppeXl5Y+XVKdjFCTh+zGaVuj0d9zy05PPK3QzBamxdwtTCrzyg/2Rvf2EstUjordGwa/kx9mSJLr8mLLtCW8HHGJc2R5hS219IiF6PnTusOqcMl57gm0Z8kanKMAQg0qSyuZfn7zItsbGyO9QlnxY0eCuD1XL2ys/MsrQhltE7Ug0uFOzufJFE2PxBo/YAx8XPPdDwWN0MrDRYIZF0mSMKCNHgaIVFoBbNoLJ7tEQDKxGF0kcLQimojCZopv0OkNOyWCCg9XMVAi7ARJzQdM2QUh0gmBozjc3Skg6dSBRqDGYSUOu66Zg+I2fNZs/M3/f/Grl/XnyF1Gw3VKCez0PN5IUfFLqvgUN4C0qNqYs5YhPL+aVZYDE4IpUk57oSFnJm4FyCqqOE0jhY2SMyLFoo56zyo6becOS5UVDdj7Vih0zp+tcMhwRpBeLyqtIjlJKAIZSbI8SGSF3k0pA3mR5tHuwPFoa7N7reoq2bqCsAk1HqCu5uvI1n6JuRXI+S1Mco54YmYTwcn6Aeic+kssXi8XpXC4V3t7/ADuTNKaQJdScAAAAAElFTkSuQmCC)](https://mybinder.org/v2/gh/vopani/datatableton/main?filepath=notebooks%2F04_frame_operations_exercises.ipynb) | [![Open in GitHub](https://img.shields.io/static/v1?label=&message=Open%20in%20GitHub&labelColor=grey&color=blue&logo=github)](https://github.com/vopani/datatableton/blob/main/notebooks/04_frame_operations_exercises.ipynb) |\n",
    "| Solutions | [![Open in Colab](https://img.shields.io/static/v1?label=&message=Open%20in%20Colab&labelColor=grey&color=blue&logo=google-colab)](https://colab.research.google.com/github/vopani/datatableton/blob/main/notebooks/04_frame_operations_solutions.ipynb) | [![Open in Kaggle](https://img.shields.io/static/v1?label=&message=Open%20in%20Kaggle&labelColor=grey&color=blue&logo=kaggle)](https://www.kaggle.com/rohanrao/datatableton-frame-operations-solutions) | [![Open in Binder](https://img.shields.io/static/v1?label=&message=Open%20in%20Binder&labelColor=grey&color=blue&logo=data:image/png;base64,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)](https://mybinder.org/v2/gh/vopani/datatableton/main?filepath=notebooks%2F04_frame_operations_solutions.ipynb) | [![Open in GitHub](https://img.shields.io/static/v1?label=&message=Open%20in%20GitHub&labelColor=grey&color=blue&logo=github)](https://github.com/vopani/datatableton/blob/main/notebooks/04_frame_operations_solutions.ipynb) |\n",
    "\n",
    "You can find all the exercises and solutions on [GitHub](https://github.com/vopani/datatableton#exercises-)"
   ]
  }
 ],
 "metadata": {
  "kernelspec": {
   "display_name": "Python 3",
   "language": "python",
   "name": "python3"
  },
  "language_info": {
   "codemirror_mode": {
    "name": "ipython",
    "version": 3
   },
   "file_extension": ".py",
   "mimetype": "text/x-python",
   "name": "python",
   "nbconvert_exporter": "python",
   "pygments_lexer": "ipython3",
   "version": "3.7.12"
  },
  "papermill": {
   "default_parameters": {},
   "duration": 33.835737,
   "end_time": "2021-12-16T16:24:01.317111",
   "environment_variables": {},
   "exception": null,
   "input_path": "__notebook__.ipynb",
   "output_path": "__notebook__.ipynb",
   "parameters": {},
   "start_time": "2021-12-16T16:23:27.481374",
   "version": "2.3.3"
  }
 },
 "nbformat": 4,
 "nbformat_minor": 5
}
